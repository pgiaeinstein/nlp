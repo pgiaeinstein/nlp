{
 "cells": [
  {
   "cell_type": "markdown",
   "metadata": {},
   "source": [
    "# Atividade 1\n",
    "\n",
    "## Word2Vec\n",
    "\n",
    "O objetivo deste laboratório é demonstrar como criar uma estrutura capaz de transformar a informação textual apresentada em aula.\n",
    "\n",
    "Vamos demonstrar isso utilizando apenas o tensorflow."
   ]
  },
  {
   "cell_type": "code",
   "execution_count": null,
   "metadata": {},
   "outputs": [],
   "source": [
    "import pandas as pd\n",
    "import numpy as np\n",
    "import tensorflow as tf\n",
    "import matplotlib.pyplot as plt"
   ]
  },
  {
   "cell_type": "markdown",
   "metadata": {},
   "source": [
    "### Lista de Documentos\n",
    "\n",
    "Aqui temos uma lista de strings com o conteúdo apresentado nos slides em aula. Acrescentei um número maior de frases para um resultado mais interessante."
   ]
  },
  {
   "cell_type": "code",
   "execution_count": null,
   "metadata": {},
   "outputs": [],
   "source": [
    "documentos = [\n",
    "    'o rei e um homem de bravura',\n",
    "    'a rainha e uma mulher de sabedoria',\n",
    "    'o menino e um homem jovem',\n",
    "    'a menina e uma mulher jovem',\n",
    "    'o principe e um jovem rei',\n",
    "    'a princesa e uma jovem rainha',\n",
    "    'principe e um menino que sera rei',\n",
    "    'princesa e uma menina que sera rainha',\n",
    "    'o homem e bruto',\n",
    "    'a mulher e bonita'\n",
    "]\n",
    "\n",
    "documentos"
   ]
  },
  {
   "cell_type": "markdown",
   "metadata": {},
   "source": [
    "### Removendo StopWords\n",
    "\n",
    "Neste problema, temos todas as frases padronizadas com suas letras minúsculas e sem acentos. Lembre que isso não é uma regra, mas modelamos o problema para respeitar essa padronização.\n",
    "\n",
    "Agora vamos remover as stopwords do nosso conjunto de documentos. Essa lista de stopwords é resumida, para você ter uma ideia de uma lista mais rica em informação, consulte este [link](https://gist.github.com/alopes/5358189).\n",
    "\n",
    "Outra biblioteca que traz, além de uma lista de stopwords, outros facilitadores para trabalho e análise de textos em python é a [NLTK (**N**atural **L**anguage **T**ool**K**it)](https://www.nltk.org/)."
   ]
  },
  {
   "cell_type": "code",
   "execution_count": null,
   "metadata": {},
   "outputs": [],
   "source": [
    "def remove_sw(documentos):\n",
    "    stop_words = ['e', 'o', 'a', 'um', 'uma', 'sera', 'que', 'de']\n",
    "    resultado = []\n",
    "    for doc in documentos:\n",
    "        tmp = doc.split(' ')\n",
    "        for sw in stop_words:\n",
    "            if sw in tmp:\n",
    "                tmp.remove(sw)\n",
    "        resultado.append(\" \".join(tmp))\n",
    "    \n",
    "    return resultado"
   ]
  },
  {
   "cell_type": "markdown",
   "metadata": {},
   "source": [
    "Ao aplicar essa função acima em nossa lista de documentos, o que esperamos como resposta é uma lista contendo os mesmos documentos de entrada, porém, sem as _**stopwords**_ registradas no bloco da função."
   ]
  },
  {
   "cell_type": "code",
   "execution_count": null,
   "metadata": {},
   "outputs": [],
   "source": [
    "documentos = remove_sw(documentos)\n",
    "documentos"
   ]
  },
  {
   "cell_type": "markdown",
   "metadata": {},
   "source": [
    "### Definindo um vocabulário\n",
    "\n",
    "Depois dos filtros aplicados, podemos definir então qual é o vocabulário do nosso conjunto de documentos (corpus).\n",
    "\n",
    "Um vocabulário é um conjunto contendo as palavras pertencentes aos nossos documentos."
   ]
  },
  {
   "cell_type": "code",
   "execution_count": null,
   "metadata": {},
   "outputs": [],
   "source": [
    "vocabulario = []\n",
    "for doc in documentos:\n",
    "    for palavra in doc.split(' '):\n",
    "        vocabulario.append(palavra)\n",
    "\n",
    "vocabulario = set(vocabulario)\n",
    "vocabulario"
   ]
  },
  {
   "cell_type": "markdown",
   "metadata": {},
   "source": [
    "### N-Grams com n=2\n",
    "\n",
    "Vamos relacionar as palavras utilizando 2-grams, ou seja, vamos analisar o relacionamento dessas palavras com seus 2 vizinhos próximos.\n",
    "\n",
    "Com essa abordagem, nosso objetivo já é padronizar a informação com o que temos de _**input**_ e _**target**_.\n",
    "\n",
    "Para facilitar a criação de nossos vetores binários representativos, vamos enumerar as palavras do nosso vocabulário."
   ]
  },
  {
   "cell_type": "code",
   "execution_count": null,
   "metadata": {},
   "outputs": [],
   "source": [
    "# Crio um vetor representativo para cada palavra do vocabulário utilizando Skip-gram com 2 n-grams\n",
    "\n",
    "label_palavra = {}\n",
    "N = 2\n",
    "\n",
    "for i, p in enumerate(vocabulario):\n",
    "    label_palavra[p] = i\n",
    "    \n",
    "label_palavra"
   ]
  },
  {
   "cell_type": "markdown",
   "metadata": {},
   "source": [
    "Vamos dividir nossos documentos em um vetor de palavras:"
   ]
  },
  {
   "cell_type": "code",
   "execution_count": null,
   "metadata": {},
   "outputs": [],
   "source": [
    "ss = []\n",
    "for s in documentos:\n",
    "    ss.append(s.split())\n",
    "    \n",
    "ss"
   ]
  },
  {
   "cell_type": "markdown",
   "metadata": {},
   "source": [
    "Organizamos nossa informação como uma matriz entre _**inputs**_ e _**targets**__:"
   ]
  },
  {
   "cell_type": "code",
   "execution_count": null,
   "metadata": {},
   "outputs": [],
   "source": [
    "_dt = []\n",
    "for s in ss:\n",
    "    for index, p in enumerate(s):\n",
    "        for vizinho in s[max(index - N, 0) : min(index + N, len(s)) + 1]: \n",
    "            if vizinho != p:\n",
    "                _dt.append([p, vizinho])\n",
    "                \n",
    "_dt[:10]"
   ]
  },
  {
   "cell_type": "markdown",
   "metadata": {},
   "source": [
    "Para facilitar o acesso aos dados, vamos gerar um _DataFrame_ com a matriz acima:"
   ]
  },
  {
   "cell_type": "code",
   "execution_count": null,
   "metadata": {},
   "outputs": [],
   "source": [
    "df = pd.DataFrame(_dt, columns = ['input', 'target'])\n",
    "df.head()"
   ]
  },
  {
   "cell_type": "markdown",
   "metadata": {},
   "source": [
    "### Encoding\n",
    "\n",
    "Temos tudo o que precisamos para transformar o dado em um representativo vetorial. Criamos duas novas listas que receberão estes vetores."
   ]
  },
  {
   "cell_type": "code",
   "execution_count": null,
   "metadata": {},
   "outputs": [],
   "source": [
    "inputs  = []\n",
    "targets = []\n",
    "\n",
    "one_hot_dim = len(vocabulario)\n",
    "\n",
    "def one_hot_encoding(dp):\n",
    "    one_hot_enc     = np.zeros(one_hot_dim)\n",
    "    one_hot_enc[dp] = 1\n",
    "    return one_hot_enc\n",
    "\n",
    "for i, j in zip(df['input'], df['target']):\n",
    "    inputs.append(one_hot_encoding(label_palavra[i]))\n",
    "    targets.append(one_hot_encoding(label_palavra[j]))\n",
    "\n",
    "print(f'Vetores resultado:\\nInputs:\\n{inputs[:5]}\\nTargets:\\n{targets[:5]}')\n",
    "    \n",
    "X_train = np.asarray(inputs)\n",
    "Y_train = np.asarray(targets)\n",
    "\n",
    "print(f'Vetores resultado:\\nX_train:\\n{X_train[:5]}\\nY_train:\\n{Y_train[:5]}')"
   ]
  },
  {
   "cell_type": "markdown",
   "metadata": {},
   "source": [
    "### Rede\n",
    "\n",
    "Vamos construir a rede exatamente como mostrado nos slides. Estamos interessados nos valores gerados na camada escondida."
   ]
  },
  {
   "cell_type": "code",
   "execution_count": null,
   "metadata": {},
   "outputs": [],
   "source": [
    "x = tf.placeholder(tf.float32, shape=(None, one_hot_dim))\n",
    "y = tf.placeholder(tf.float32, shape=(None, one_hot_dim))\n",
    "\n",
    "embedding_nodes = 2 \n",
    "\n",
    "W_1 = tf.Variable(tf.random_normal([one_hot_dim, embedding_nodes]))\n",
    "b_1 = tf.Variable(tf.random_normal([1]))\n",
    "densa = tf.add(tf.matmul(x, W_1), b_1)\n",
    "\n",
    "W_2 = tf.Variable(tf.random_normal([embedding_nodes, one_hot_dim]))\n",
    "b_2 = tf.Variable(tf.random_normal([1]))\n",
    "\n",
    "pred = tf.nn.softmax(tf.add( tf.matmul(densa, W_2), b_2))\n",
    "loss = tf.reduce_mean(-tf.reduce_sum(y * tf.log(pred), axis=[1]))\n",
    "\n",
    "train_operator = tf.train.GradientDescentOptimizer(0.05).minimize(loss)"
   ]
  },
  {
   "cell_type": "code",
   "execution_count": null,
   "metadata": {},
   "outputs": [],
   "source": [
    "sess = tf.Session()\n",
    "init = tf.global_variables_initializer()\n",
    "sess.run(init) \n",
    "\n",
    "epochs = 25000\n",
    "\n",
    "for i in range(epochs):\n",
    "    sess.run(train_operator, feed_dict={x: X_train, y: Y_train})\n",
    "    if i % 5000 == 0:\n",
    "        print(f'iteração {i} - loss {sess.run(loss, feed_dict={x: X_train, y: Y_train})}')"
   ]
  },
  {
   "cell_type": "code",
   "execution_count": null,
   "metadata": {},
   "outputs": [],
   "source": [
    "vetores = sess.run(W_1 + b_1)\n",
    "vetores"
   ]
  },
  {
   "cell_type": "code",
   "execution_count": null,
   "metadata": {},
   "outputs": [],
   "source": [
    "w2v_df = pd.DataFrame(vetores, columns = ['x', 'y'])\n",
    "w2v_df['palavra'] = vocabulario\n",
    "w2v_df = w2v_df[['palavra', 'x', 'y']]\n",
    "w2v_df"
   ]
  },
  {
   "cell_type": "code",
   "execution_count": null,
   "metadata": {},
   "outputs": [],
   "source": [
    "_, ax = plt.subplots(figsize = (10, 10))\n",
    "\n",
    "for p, x, y in zip(w2v_df['palavra'], w2v_df['x'], w2v_df['y']):\n",
    "    ax.annotate(p, (x, y))\n",
    "    \n",
    "_P = 1.0\n",
    "ax_min = np.amin(vetores, axis = 0)[0] - _P\n",
    "ax_max = np.amax(vetores, axis = 0)[0] + _P\n",
    "ay_min = np.amin(vetores, axis = 0)[1] - _P\n",
    "ay_max = np.amax(vetores, axis = 0)[1] + _P\n",
    " \n",
    "plt.xlim(ax_min, ax_max)\n",
    "plt.ylim(ay_min, ay_max)"
   ]
  },
  {
   "cell_type": "markdown",
   "metadata": {},
   "source": [
    "## GenSim Word2Vec\n",
    "\n",
    "A biblioteca [Gensim](https://radimrehurek.com/gensim/) traz a implementação de modelos conhecidos para o _embedding_ textual. Dentro dela há um modelo de Word2Vec pronto, vamos aprender como utilizar a biblioteca."
   ]
  },
  {
   "cell_type": "markdown",
   "metadata": {},
   "source": [
    "### Inputs\n",
    "\n",
    "A classe `Word2Vec` espera recebem um array de _tokens_ resultante dos documentos do _corpus_, isso nada mais é que o conteudo de nossos documentos em formato de array onde cada posição guarda uma palavra (_token_) do documento.\n",
    "\n",
    "Já fizemos esta operação e guardamos seu resultado na variável `ss`:"
   ]
  },
  {
   "cell_type": "code",
   "execution_count": null,
   "metadata": {},
   "outputs": [],
   "source": [
    "ss"
   ]
  },
  {
   "cell_type": "code",
   "execution_count": null,
   "metadata": {},
   "outputs": [],
   "source": [
    "from gensim.models import Word2Vec\n",
    "from sklearn.manifold import TSNE\n",
    "\n",
    "import multiprocessing"
   ]
  },
  {
   "cell_type": "markdown",
   "metadata": {},
   "source": [
    "A classe `Word2Vec` possui alguns parâmetros de configuração que podem ser fornecidos no momento de sua inicialização.\n",
    "\n",
    "Sugiro verificar a [documentação](https://www.pydoc.io/pypi/gensim-3.2.0/autoapi/models/word2vec/index.html#models.word2vec.Word2Vec) para consulta de todas as possibilidades."
   ]
  },
  {
   "cell_type": "code",
   "execution_count": null,
   "metadata": {},
   "outputs": [],
   "source": [
    "w2v = Word2Vec(min_count=1, size=5, iter=1, workers=1, batch_words=1, sg=1)"
   ]
  },
  {
   "cell_type": "code",
   "execution_count": null,
   "metadata": {},
   "outputs": [],
   "source": [
    "w2v.build_vocab(ss)"
   ]
  },
  {
   "cell_type": "code",
   "execution_count": null,
   "metadata": {},
   "outputs": [],
   "source": [
    "print(\"Word2Vec - tamanho do vocabulário:\", len(w2v.wv.vocab))"
   ]
  },
  {
   "cell_type": "code",
   "execution_count": null,
   "metadata": {},
   "outputs": [],
   "source": [
    "w2v.train(ss, total_examples=len(ss), epochs=5)"
   ]
  },
  {
   "cell_type": "markdown",
   "metadata": {},
   "source": [
    "Traz alguns métodos que facilitam certas operações, por exemplo o método `most_similar(string)` responde sempre com as 10 palavras mais similares na rede em relação a palavra fornecida como parâmetro."
   ]
  },
  {
   "cell_type": "code",
   "execution_count": null,
   "metadata": {},
   "outputs": [],
   "source": [
    "w2v.most_similar(\"rei\")"
   ]
  },
  {
   "cell_type": "markdown",
   "metadata": {},
   "source": [
    "### t-SNE\n",
    "\n",
    "Dessa vez temos mais do que duas dimensões em nossa camada escondida. Para plotar nossa representação em um plano cartesiano, precisamos reduzir a dimensionalidade de nossa informação.\n",
    "\n",
    "O método t-Distributed Stochastic Neighbor Embedding (t-SNE) é muito conhecido na tarefa de redução de dimensionalidade. Você pode ler mais sobre este assunto neste [link](https://lvdmaaten.github.io/tsne/)."
   ]
  },
  {
   "cell_type": "code",
   "execution_count": null,
   "metadata": {},
   "outputs": [],
   "source": [
    "tsne = TSNE(n_components=2, random_state=0)"
   ]
  },
  {
   "cell_type": "code",
   "execution_count": null,
   "metadata": {},
   "outputs": [],
   "source": [
    "word_vectors_matriz = w2v.wv.vectors"
   ]
  },
  {
   "cell_type": "code",
   "execution_count": null,
   "metadata": {},
   "outputs": [],
   "source": [
    "word_vectors_matriz"
   ]
  },
  {
   "cell_type": "code",
   "execution_count": null,
   "metadata": {},
   "outputs": [],
   "source": [
    "word_vectors_matriz.shape"
   ]
  },
  {
   "cell_type": "code",
   "execution_count": null,
   "metadata": {},
   "outputs": [],
   "source": [
    "x_y_vetores = tsne.fit_transform(word_vectors_matriz)"
   ]
  },
  {
   "cell_type": "code",
   "execution_count": null,
   "metadata": {},
   "outputs": [],
   "source": [
    "x_y_vetores"
   ]
  },
  {
   "cell_type": "markdown",
   "metadata": {},
   "source": [
    "Agora que temos nosso dado em duas dimensões, podemos unificar nossa informação em um `DataFrame` para facilitar o processamento."
   ]
  },
  {
   "cell_type": "code",
   "execution_count": null,
   "metadata": {},
   "outputs": [],
   "source": [
    "w2v_df = pd.DataFrame(x_y_vetores, columns = ['x', 'y'])\n",
    "w2v_df['palavra'] = vocabulario\n",
    "w2v_df = w2v_df[['palavra', 'x', 'y']]\n",
    "w2v_df"
   ]
  },
  {
   "cell_type": "markdown",
   "metadata": {},
   "source": [
    "Para facilitar a visualização, padronizamos os dados das colunas `x` e `y`."
   ]
  },
  {
   "cell_type": "code",
   "execution_count": null,
   "metadata": {},
   "outputs": [],
   "source": [
    "w2v_df['x'] = (w2v_df['x'] - w2v_df['x'].mean())/w2v_df['x'].std()\n",
    "w2v_df['y'] = (w2v_df['y'] - w2v_df['y'].mean())/w2v_df['y'].std()"
   ]
  },
  {
   "cell_type": "code",
   "execution_count": null,
   "metadata": {},
   "outputs": [],
   "source": [
    "w2v_df"
   ]
  },
  {
   "cell_type": "code",
   "execution_count": null,
   "metadata": {},
   "outputs": [],
   "source": [
    "_, ax = plt.subplots(figsize = (10, 10))\n",
    "\n",
    "for p, x, y in zip(w2v_df['palavra'], w2v_df['x'], w2v_df['y']):\n",
    "    ax.annotate(p, (x, y))\n",
    "    \n",
    "_P = 1.0\n",
    "ax_min = w2v_df['x'].min() - _P\n",
    "ax_max = w2v_df['x'].max() + _P\n",
    "ay_min = w2v_df['y'].min() - _P\n",
    "ay_max = w2v_df['y'].max() + _P\n",
    " \n",
    "plt.xlim(ax_min, ax_max)\n",
    "plt.ylim(ay_min, ay_max)\n",
    "\n",
    "plt.show()"
   ]
  },
  {
   "cell_type": "markdown",
   "metadata": {},
   "source": [
    "## Desafio\n",
    "\n",
    "### Word2Vec nos laudos de coronária\n",
    "\n",
    "O DataFrame abaixo contém 500 laudos radiológicos de angiotomografia de coronária. O desafio é realizar o mesmo processamento que fizemos nos exemplos acima para preparar o dado e utilizar a classe `Word2Vec` para gerar uma representação vetorial de similaridade deste corpus."
   ]
  },
  {
   "cell_type": "code",
   "execution_count": null,
   "metadata": {},
   "outputs": [],
   "source": [
    "import pandas as pd\n",
    "import nltk\n",
    "import numpy as np"
   ]
  },
  {
   "cell_type": "code",
   "execution_count": null,
   "metadata": {},
   "outputs": [],
   "source": [
    "nltk.download('stopwords')"
   ]
  },
  {
   "cell_type": "code",
   "execution_count": null,
   "metadata": {},
   "outputs": [],
   "source": [
    "stopwords = nltk.corpus.stopwords.words('portuguese')"
   ]
  },
  {
   "cell_type": "code",
   "execution_count": null,
   "metadata": {},
   "outputs": [],
   "source": [
    "df_coronaria = pd.read_excel('https://raw.githubusercontent.com/pgiaeinstein/nlp/master/data_coronaria.xlsx')"
   ]
  },
  {
   "cell_type": "code",
   "execution_count": null,
   "metadata": {},
   "outputs": [],
   "source": [
    "df_coronaria.head()"
   ]
  }
 ],
 "metadata": {
  "kernelspec": {
   "display_name": "Python 3",
   "language": "python",
   "name": "python3"
  },
  "language_info": {
   "codemirror_mode": {
    "name": "ipython",
    "version": 3
   },
   "file_extension": ".py",
   "mimetype": "text/x-python",
   "name": "python",
   "nbconvert_exporter": "python",
   "pygments_lexer": "ipython3",
   "version": "3.6.8"
  }
 },
 "nbformat": 4,
 "nbformat_minor": 4
}
