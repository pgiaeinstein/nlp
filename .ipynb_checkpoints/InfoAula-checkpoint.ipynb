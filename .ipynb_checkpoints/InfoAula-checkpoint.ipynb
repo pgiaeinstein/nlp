{
 "cells": [
  {
   "cell_type": "markdown",
   "metadata": {},
   "source": [
    "# DS - Área da Saúde - Aula 15\n",
    "\n",
    "### Arquivos\n",
    "\n",
    "[Slide da aula](https://github.com/pgiaeinstein/nlp/raw/master/SlidesAula.pdf)"
   ]
  }
 ],
 "metadata": {
  "kernelspec": {
   "display_name": "Python 3",
   "language": "python",
   "name": "python3"
  },
  "language_info": {
   "codemirror_mode": {
    "name": "ipython",
    "version": 3
   },
   "file_extension": ".py",
   "mimetype": "text/x-python",
   "name": "python",
   "nbconvert_exporter": "python",
   "pygments_lexer": "ipython3",
   "version": "3.6.7"
  }
 },
 "nbformat": 4,
 "nbformat_minor": 2
}
