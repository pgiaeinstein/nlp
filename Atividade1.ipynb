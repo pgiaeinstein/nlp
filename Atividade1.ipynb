{
 "cells": [
  {
   "cell_type": "markdown",
   "metadata": {},
   "source": [
    "# Atividade 1\n",
    "\n",
    "## Word2Vec\n",
    "\n",
    "O objetivo deste laboratório é demonstrar como criar uma estrutura capaz de transformar a informação textual apresentada em aula.\n",
    "\n",
    "Vamos demonstrar isso utilizando apenas o tensorflow."
   ]
  },
  {
   "cell_type": "code",
   "execution_count": 1,
   "metadata": {},
   "outputs": [],
   "source": [
    "import pandas as pd\n",
    "import numpy as np\n",
    "import tensorflow as tf\n",
    "import matplotlib.pyplot as plt"
   ]
  },
  {
   "cell_type": "markdown",
   "metadata": {},
   "source": [
    "### Lista de Documentos\n",
    "\n",
    "Aqui temos uma lista de strings com o conteúdo apresentado nos slides em aula. Acrescentei um número maior de frases para um resultado mais interessante."
   ]
  },
  {
   "cell_type": "code",
   "execution_count": 2,
   "metadata": {},
   "outputs": [
    {
     "data": {
      "text/plain": [
       "['o rei e um homem de bravura',\n",
       " 'a rainha e uma mulher de sabedoria',\n",
       " 'o menino e um homem jovem',\n",
       " 'a menina e uma mulher jovem',\n",
       " 'o principe e um jovem rei',\n",
       " 'a princesa e uma jovem rainha',\n",
       " 'principe e um menino que sera rei',\n",
       " 'princesa e uma menina que sera rainha',\n",
       " 'o homem e bruto',\n",
       " 'a mulher e bonita']"
      ]
     },
     "execution_count": 2,
     "metadata": {},
     "output_type": "execute_result"
    }
   ],
   "source": [
    "documentos = [\n",
    "    'o rei e um homem de bravura',\n",
    "    'a rainha e uma mulher de sabedoria',\n",
    "    'o menino e um homem jovem',\n",
    "    'a menina e uma mulher jovem',\n",
    "    'o principe e um jovem rei',\n",
    "    'a princesa e uma jovem rainha',\n",
    "    'principe e um menino que sera rei',\n",
    "    'princesa e uma menina que sera rainha',\n",
    "    'o homem e bruto',\n",
    "    'a mulher e bonita'\n",
    "]\n",
    "\n",
    "documentos"
   ]
  },
  {
   "cell_type": "markdown",
   "metadata": {},
   "source": [
    "### Removendo StopWords\n",
    "\n",
    "Neste problema, temos todas as frases padronizadas com suas letras minúsculas e sem acentos. Lembre que isso não é uma regra, mas modelamos o problema para respeitar essa padronização.\n",
    "\n",
    "Agora vamos remover as stopwords do nosso conjunto de documentos. Essa lista de stopwords é resumida, para você ter uma ideia de uma lista mais rica em informação, consulte este [link](https://gist.github.com/alopes/5358189).\n",
    "\n",
    "Outra biblioteca que traz, além de uma lista de stopwords, outros facilitadores para trabalho e análise de textos em python é a [NLTK (**N**atural **L**anguage **T**ool**K**it)](https://www.nltk.org/)."
   ]
  },
  {
   "cell_type": "code",
   "execution_count": 3,
   "metadata": {},
   "outputs": [],
   "source": [
    "def remove_sw(documentos):\n",
    "    stop_words = ['e', 'o', 'a', 'um', 'uma', 'sera', 'que', 'de']\n",
    "    resultado = []\n",
    "    for doc in documentos:\n",
    "        tmp = doc.split(' ')\n",
    "        for sw in stop_words:\n",
    "            if sw in tmp:\n",
    "                tmp.remove(sw)\n",
    "        resultado.append(\" \".join(tmp))\n",
    "    \n",
    "    return resultado"
   ]
  },
  {
   "cell_type": "markdown",
   "metadata": {},
   "source": [
    "Ao aplicar essa função acima em nossa lista de documentos, o que esperamos como resposta é uma lista contendo os mesmos documentos de entrada, porém, sem as _**stopwords**_ registradas no bloco da função."
   ]
  },
  {
   "cell_type": "code",
   "execution_count": 4,
   "metadata": {},
   "outputs": [
    {
     "data": {
      "text/plain": [
       "['rei homem bravura',\n",
       " 'rainha mulher sabedoria',\n",
       " 'menino homem jovem',\n",
       " 'menina mulher jovem',\n",
       " 'principe jovem rei',\n",
       " 'princesa jovem rainha',\n",
       " 'principe menino rei',\n",
       " 'princesa menina rainha',\n",
       " 'homem bruto',\n",
       " 'mulher bonita']"
      ]
     },
     "execution_count": 4,
     "metadata": {},
     "output_type": "execute_result"
    }
   ],
   "source": [
    "documentos = remove_sw(documentos)\n",
    "documentos"
   ]
  },
  {
   "cell_type": "markdown",
   "metadata": {},
   "source": [
    "### Definindo um vocabulário\n",
    "\n",
    "Depois dos filtros aplicados, podemos definir então qual é o vocabulário do nosso conjunto de documentos (corpus).\n",
    "\n",
    "Um vocabulário é um conjunto contendo as palavras pertencentes aos nossos documentos."
   ]
  },
  {
   "cell_type": "code",
   "execution_count": 5,
   "metadata": {},
   "outputs": [
    {
     "data": {
      "text/plain": [
       "{'bonita',\n",
       " 'bravura',\n",
       " 'bruto',\n",
       " 'homem',\n",
       " 'jovem',\n",
       " 'menina',\n",
       " 'menino',\n",
       " 'mulher',\n",
       " 'princesa',\n",
       " 'principe',\n",
       " 'rainha',\n",
       " 'rei',\n",
       " 'sabedoria'}"
      ]
     },
     "execution_count": 5,
     "metadata": {},
     "output_type": "execute_result"
    }
   ],
   "source": [
    "vocabulario = []\n",
    "for doc in documentos:\n",
    "    for palavra in doc.split(' '):\n",
    "        vocabulario.append(palavra)\n",
    "\n",
    "vocabulario = set(vocabulario)\n",
    "vocabulario"
   ]
  },
  {
   "cell_type": "markdown",
   "metadata": {},
   "source": [
    "### N-Grams com n=2\n",
    "\n",
    "Vamos relacionar as palavras utilizando 2-grams, ou seja, vamos analisar o relacionamento dessas palavras com seus 2 vizinhos próximos.\n",
    "\n",
    "Com essa abordagem, nosso objetivo já é padronizar a informação com o que temos de _**input**_ e _**target**_.\n",
    "\n",
    "Para facilitar a criação de nossos vetores binários representativos, vamos enumerar as palavras do nosso vocabulário."
   ]
  },
  {
   "cell_type": "code",
   "execution_count": 6,
   "metadata": {},
   "outputs": [
    {
     "data": {
      "text/plain": [
       "{'bravura': 0,\n",
       " 'jovem': 1,\n",
       " 'principe': 2,\n",
       " 'bruto': 3,\n",
       " 'menina': 4,\n",
       " 'mulher': 5,\n",
       " 'sabedoria': 6,\n",
       " 'rainha': 7,\n",
       " 'princesa': 8,\n",
       " 'homem': 9,\n",
       " 'rei': 10,\n",
       " 'bonita': 11,\n",
       " 'menino': 12}"
      ]
     },
     "execution_count": 6,
     "metadata": {},
     "output_type": "execute_result"
    }
   ],
   "source": [
    "# Crio um vetor representativo para cada palavra do vocabulário utilizando Skip-gram com 2 n-grams\n",
    "\n",
    "label_palavra = {}\n",
    "N = 2\n",
    "\n",
    "for i, p in enumerate(vocabulario):\n",
    "    label_palavra[p] = i\n",
    "    \n",
    "label_palavra"
   ]
  },
  {
   "cell_type": "markdown",
   "metadata": {},
   "source": [
    "Vamos dividir nossos documentos em um vetor de palavras:"
   ]
  },
  {
   "cell_type": "code",
   "execution_count": 7,
   "metadata": {},
   "outputs": [
    {
     "data": {
      "text/plain": [
       "[['rei', 'homem', 'bravura'],\n",
       " ['rainha', 'mulher', 'sabedoria'],\n",
       " ['menino', 'homem', 'jovem'],\n",
       " ['menina', 'mulher', 'jovem'],\n",
       " ['principe', 'jovem', 'rei'],\n",
       " ['princesa', 'jovem', 'rainha'],\n",
       " ['principe', 'menino', 'rei'],\n",
       " ['princesa', 'menina', 'rainha'],\n",
       " ['homem', 'bruto'],\n",
       " ['mulher', 'bonita']]"
      ]
     },
     "execution_count": 7,
     "metadata": {},
     "output_type": "execute_result"
    }
   ],
   "source": [
    "ss = []\n",
    "for s in documentos:\n",
    "    ss.append(s.split())\n",
    "    \n",
    "ss"
   ]
  },
  {
   "cell_type": "markdown",
   "metadata": {},
   "source": [
    "Organizamos nossa informação como uma matriz entre _**inputs**_ e _**targets**__:"
   ]
  },
  {
   "cell_type": "code",
   "execution_count": 8,
   "metadata": {},
   "outputs": [
    {
     "data": {
      "text/plain": [
       "[['rei', 'homem'],\n",
       " ['rei', 'bravura'],\n",
       " ['homem', 'rei'],\n",
       " ['homem', 'bravura'],\n",
       " ['bravura', 'rei'],\n",
       " ['bravura', 'homem'],\n",
       " ['rainha', 'mulher'],\n",
       " ['rainha', 'sabedoria'],\n",
       " ['mulher', 'rainha'],\n",
       " ['mulher', 'sabedoria']]"
      ]
     },
     "execution_count": 8,
     "metadata": {},
     "output_type": "execute_result"
    }
   ],
   "source": [
    "_dt = []\n",
    "for s in ss:\n",
    "    for index, p in enumerate(s):\n",
    "        for vizinho in s[max(index - N, 0) : min(index + N, len(s)) + 1]: \n",
    "            if vizinho != p:\n",
    "                _dt.append([p, vizinho])\n",
    "                \n",
    "_dt[:10]"
   ]
  },
  {
   "cell_type": "markdown",
   "metadata": {},
   "source": [
    "Para facilitar o acesso aos dados, vamos gerar um _DataFrame_ com a matriz acima:"
   ]
  },
  {
   "cell_type": "code",
   "execution_count": 9,
   "metadata": {},
   "outputs": [
    {
     "data": {
      "text/html": [
       "<div>\n",
       "<style scoped>\n",
       "    .dataframe tbody tr th:only-of-type {\n",
       "        vertical-align: middle;\n",
       "    }\n",
       "\n",
       "    .dataframe tbody tr th {\n",
       "        vertical-align: top;\n",
       "    }\n",
       "\n",
       "    .dataframe thead th {\n",
       "        text-align: right;\n",
       "    }\n",
       "</style>\n",
       "<table border=\"1\" class=\"dataframe\">\n",
       "  <thead>\n",
       "    <tr style=\"text-align: right;\">\n",
       "      <th></th>\n",
       "      <th>input</th>\n",
       "      <th>target</th>\n",
       "    </tr>\n",
       "  </thead>\n",
       "  <tbody>\n",
       "    <tr>\n",
       "      <th>0</th>\n",
       "      <td>rei</td>\n",
       "      <td>homem</td>\n",
       "    </tr>\n",
       "    <tr>\n",
       "      <th>1</th>\n",
       "      <td>rei</td>\n",
       "      <td>bravura</td>\n",
       "    </tr>\n",
       "    <tr>\n",
       "      <th>2</th>\n",
       "      <td>homem</td>\n",
       "      <td>rei</td>\n",
       "    </tr>\n",
       "    <tr>\n",
       "      <th>3</th>\n",
       "      <td>homem</td>\n",
       "      <td>bravura</td>\n",
       "    </tr>\n",
       "    <tr>\n",
       "      <th>4</th>\n",
       "      <td>bravura</td>\n",
       "      <td>rei</td>\n",
       "    </tr>\n",
       "  </tbody>\n",
       "</table>\n",
       "</div>"
      ],
      "text/plain": [
       "     input   target\n",
       "0      rei    homem\n",
       "1      rei  bravura\n",
       "2    homem      rei\n",
       "3    homem  bravura\n",
       "4  bravura      rei"
      ]
     },
     "execution_count": 9,
     "metadata": {},
     "output_type": "execute_result"
    }
   ],
   "source": [
    "df = pd.DataFrame(_dt, columns = ['input', 'target'])\n",
    "df.head()"
   ]
  },
  {
   "cell_type": "markdown",
   "metadata": {},
   "source": [
    "### Encoding\n",
    "\n",
    "Temos tudo o que precisamos para transformar o dado em um representativo vetorial. Criamos duas novas listas que receberão estes vetores."
   ]
  },
  {
   "cell_type": "code",
   "execution_count": 10,
   "metadata": {},
   "outputs": [
    {
     "name": "stdout",
     "output_type": "stream",
     "text": [
      "Vetores resultado:\n",
      "Inputs:\n",
      "[array([0., 0., 0., 0., 0., 0., 0., 0., 0., 0., 1., 0., 0.]), array([0., 0., 0., 0., 0., 0., 0., 0., 0., 0., 1., 0., 0.]), array([0., 0., 0., 0., 0., 0., 0., 0., 0., 1., 0., 0., 0.]), array([0., 0., 0., 0., 0., 0., 0., 0., 0., 1., 0., 0., 0.]), array([1., 0., 0., 0., 0., 0., 0., 0., 0., 0., 0., 0., 0.])]\n",
      "Targets:\n",
      "[array([0., 0., 0., 0., 0., 0., 0., 0., 0., 1., 0., 0., 0.]), array([1., 0., 0., 0., 0., 0., 0., 0., 0., 0., 0., 0., 0.]), array([0., 0., 0., 0., 0., 0., 0., 0., 0., 0., 1., 0., 0.]), array([1., 0., 0., 0., 0., 0., 0., 0., 0., 0., 0., 0., 0.]), array([0., 0., 0., 0., 0., 0., 0., 0., 0., 0., 1., 0., 0.])]\n",
      "Vetores resultado:\n",
      "X_train:\n",
      "[[0. 0. 0. 0. 0. 0. 0. 0. 0. 0. 1. 0. 0.]\n",
      " [0. 0. 0. 0. 0. 0. 0. 0. 0. 0. 1. 0. 0.]\n",
      " [0. 0. 0. 0. 0. 0. 0. 0. 0. 1. 0. 0. 0.]\n",
      " [0. 0. 0. 0. 0. 0. 0. 0. 0. 1. 0. 0. 0.]\n",
      " [1. 0. 0. 0. 0. 0. 0. 0. 0. 0. 0. 0. 0.]]\n",
      "Y_train:\n",
      "[[0. 0. 0. 0. 0. 0. 0. 0. 0. 1. 0. 0. 0.]\n",
      " [1. 0. 0. 0. 0. 0. 0. 0. 0. 0. 0. 0. 0.]\n",
      " [0. 0. 0. 0. 0. 0. 0. 0. 0. 0. 1. 0. 0.]\n",
      " [1. 0. 0. 0. 0. 0. 0. 0. 0. 0. 0. 0. 0.]\n",
      " [0. 0. 0. 0. 0. 0. 0. 0. 0. 0. 1. 0. 0.]]\n"
     ]
    }
   ],
   "source": [
    "inputs  = []\n",
    "targets = []\n",
    "\n",
    "one_hot_dim = len(vocabulario)\n",
    "\n",
    "def one_hot_encoding(dp):\n",
    "    one_hot_enc     = np.zeros(one_hot_dim)\n",
    "    one_hot_enc[dp] = 1\n",
    "    return one_hot_enc\n",
    "\n",
    "for i, j in zip(df['input'], df['target']):\n",
    "    inputs.append(one_hot_encoding(label_palavra[i]))\n",
    "    targets.append(one_hot_encoding(label_palavra[j]))\n",
    "\n",
    "print(f'Vetores resultado:\\nInputs:\\n{inputs[:5]}\\nTargets:\\n{targets[:5]}')\n",
    "    \n",
    "X_train = np.asarray(inputs)\n",
    "Y_train = np.asarray(targets)\n",
    "\n",
    "print(f'Vetores resultado:\\nX_train:\\n{X_train[:5]}\\nY_train:\\n{Y_train[:5]}')"
   ]
  },
  {
   "cell_type": "markdown",
   "metadata": {},
   "source": [
    "### Rede\n",
    "\n",
    "Vamos construir a rede exatamente como mostrado nos slides. Estamos interessados nos valores gerados na camada escondida."
   ]
  },
  {
   "cell_type": "code",
   "execution_count": 11,
   "metadata": {},
   "outputs": [],
   "source": [
    "x = tf.placeholder(tf.float32, shape=(None, one_hot_dim))\n",
    "y = tf.placeholder(tf.float32, shape=(None, one_hot_dim))\n",
    "\n",
    "embedding_nodes = 2 \n",
    "\n",
    "W_1 = tf.Variable(tf.random_normal([one_hot_dim, embedding_nodes]))\n",
    "b_1 = tf.Variable(tf.random_normal([1]))\n",
    "densa = tf.add(tf.matmul(x, W_1), b_1)\n",
    "\n",
    "W_2 = tf.Variable(tf.random_normal([embedding_nodes, one_hot_dim]))\n",
    "b_2 = tf.Variable(tf.random_normal([1]))\n",
    "\n",
    "pred = tf.nn.softmax(tf.add( tf.matmul(densa, W_2), b_2))\n",
    "loss = tf.reduce_mean(-tf.reduce_sum(y * tf.log(pred), axis=[1]))\n",
    "\n",
    "train_operator = tf.train.GradientDescentOptimizer(0.05).minimize(loss)"
   ]
  },
  {
   "cell_type": "code",
   "execution_count": 12,
   "metadata": {},
   "outputs": [
    {
     "name": "stdout",
     "output_type": "stream",
     "text": [
      "iteração 0 - loss 3.2166175842285156\n",
      "iteração 5000 - loss 1.8450576066970825\n",
      "iteração 10000 - loss 1.8095208406448364\n",
      "iteração 15000 - loss 1.7932313680648804\n",
      "iteração 20000 - loss 1.7828011512756348\n"
     ]
    }
   ],
   "source": [
    "sess = tf.Session()\n",
    "init = tf.global_variables_initializer()\n",
    "sess.run(init) \n",
    "\n",
    "epochs = 25000\n",
    "\n",
    "for i in range(epochs):\n",
    "    sess.run(train_operator, feed_dict={x: X_train, y: Y_train})\n",
    "    if i % 5000 == 0:\n",
    "        print(f'iteração {i} - loss {sess.run(loss, feed_dict={x: X_train, y: Y_train})}')"
   ]
  },
  {
   "cell_type": "code",
   "execution_count": 13,
   "metadata": {},
   "outputs": [
    {
     "data": {
      "text/plain": [
       "array([[ 4.203136  ,  3.0890317 ],\n",
       "       [ 0.35712373,  0.38228047],\n",
       "       [ 0.6021834 ,  0.10278136],\n",
       "       [ 3.7984462 ,  4.081257  ],\n",
       "       [-0.5643188 ,  2.5166526 ],\n",
       "       [-3.5344992 ,  1.5488732 ],\n",
       "       [-0.8197001 ,  5.747223  ],\n",
       "       [-0.654214  ,  0.5991994 ],\n",
       "       [-5.1433825 ,  3.4971647 ],\n",
       "       [ 0.19467795, -0.2970153 ],\n",
       "       [ 0.34036493,  0.14786208],\n",
       "       [ 1.7038429 ,  5.99118   ],\n",
       "       [ 0.8090789 ,  0.727739  ]], dtype=float32)"
      ]
     },
     "execution_count": 13,
     "metadata": {},
     "output_type": "execute_result"
    }
   ],
   "source": [
    "vetores = sess.run(W_1 + b_1)\n",
    "vetores"
   ]
  },
  {
   "cell_type": "code",
   "execution_count": 14,
   "metadata": {},
   "outputs": [
    {
     "data": {
      "text/html": [
       "<div>\n",
       "<style scoped>\n",
       "    .dataframe tbody tr th:only-of-type {\n",
       "        vertical-align: middle;\n",
       "    }\n",
       "\n",
       "    .dataframe tbody tr th {\n",
       "        vertical-align: top;\n",
       "    }\n",
       "\n",
       "    .dataframe thead th {\n",
       "        text-align: right;\n",
       "    }\n",
       "</style>\n",
       "<table border=\"1\" class=\"dataframe\">\n",
       "  <thead>\n",
       "    <tr style=\"text-align: right;\">\n",
       "      <th></th>\n",
       "      <th>palavra</th>\n",
       "      <th>x</th>\n",
       "      <th>y</th>\n",
       "    </tr>\n",
       "  </thead>\n",
       "  <tbody>\n",
       "    <tr>\n",
       "      <th>0</th>\n",
       "      <td>bravura</td>\n",
       "      <td>4.203136</td>\n",
       "      <td>3.089032</td>\n",
       "    </tr>\n",
       "    <tr>\n",
       "      <th>1</th>\n",
       "      <td>jovem</td>\n",
       "      <td>0.357124</td>\n",
       "      <td>0.382280</td>\n",
       "    </tr>\n",
       "    <tr>\n",
       "      <th>2</th>\n",
       "      <td>principe</td>\n",
       "      <td>0.602183</td>\n",
       "      <td>0.102781</td>\n",
       "    </tr>\n",
       "    <tr>\n",
       "      <th>3</th>\n",
       "      <td>bruto</td>\n",
       "      <td>3.798446</td>\n",
       "      <td>4.081257</td>\n",
       "    </tr>\n",
       "    <tr>\n",
       "      <th>4</th>\n",
       "      <td>menina</td>\n",
       "      <td>-0.564319</td>\n",
       "      <td>2.516653</td>\n",
       "    </tr>\n",
       "    <tr>\n",
       "      <th>5</th>\n",
       "      <td>mulher</td>\n",
       "      <td>-3.534499</td>\n",
       "      <td>1.548873</td>\n",
       "    </tr>\n",
       "    <tr>\n",
       "      <th>6</th>\n",
       "      <td>sabedoria</td>\n",
       "      <td>-0.819700</td>\n",
       "      <td>5.747223</td>\n",
       "    </tr>\n",
       "    <tr>\n",
       "      <th>7</th>\n",
       "      <td>rainha</td>\n",
       "      <td>-0.654214</td>\n",
       "      <td>0.599199</td>\n",
       "    </tr>\n",
       "    <tr>\n",
       "      <th>8</th>\n",
       "      <td>princesa</td>\n",
       "      <td>-5.143383</td>\n",
       "      <td>3.497165</td>\n",
       "    </tr>\n",
       "    <tr>\n",
       "      <th>9</th>\n",
       "      <td>homem</td>\n",
       "      <td>0.194678</td>\n",
       "      <td>-0.297015</td>\n",
       "    </tr>\n",
       "    <tr>\n",
       "      <th>10</th>\n",
       "      <td>rei</td>\n",
       "      <td>0.340365</td>\n",
       "      <td>0.147862</td>\n",
       "    </tr>\n",
       "    <tr>\n",
       "      <th>11</th>\n",
       "      <td>bonita</td>\n",
       "      <td>1.703843</td>\n",
       "      <td>5.991180</td>\n",
       "    </tr>\n",
       "    <tr>\n",
       "      <th>12</th>\n",
       "      <td>menino</td>\n",
       "      <td>0.809079</td>\n",
       "      <td>0.727739</td>\n",
       "    </tr>\n",
       "  </tbody>\n",
       "</table>\n",
       "</div>"
      ],
      "text/plain": [
       "      palavra         x         y\n",
       "0     bravura  4.203136  3.089032\n",
       "1       jovem  0.357124  0.382280\n",
       "2    principe  0.602183  0.102781\n",
       "3       bruto  3.798446  4.081257\n",
       "4      menina -0.564319  2.516653\n",
       "5      mulher -3.534499  1.548873\n",
       "6   sabedoria -0.819700  5.747223\n",
       "7      rainha -0.654214  0.599199\n",
       "8    princesa -5.143383  3.497165\n",
       "9       homem  0.194678 -0.297015\n",
       "10        rei  0.340365  0.147862\n",
       "11     bonita  1.703843  5.991180\n",
       "12     menino  0.809079  0.727739"
      ]
     },
     "execution_count": 14,
     "metadata": {},
     "output_type": "execute_result"
    }
   ],
   "source": [
    "w2v_df = pd.DataFrame(vetores, columns = ['x', 'y'])\n",
    "w2v_df['palavra'] = vocabulario\n",
    "w2v_df = w2v_df[['palavra', 'x', 'y']]\n",
    "w2v_df"
   ]
  },
  {
   "cell_type": "code",
   "execution_count": 15,
   "metadata": {},
   "outputs": [
    {
     "data": {
      "text/plain": [
       "(-1.2970153093338013, 6.991179943084717)"
      ]
     },
     "execution_count": 15,
     "metadata": {},
     "output_type": "execute_result"
    },
    {
     "data": {
      "image/png": "[encoded data removed]",
      "text/plain": [
       "<Figure size 720x720 with 1 Axes>"
      ]
     },
     "metadata": {
      "needs_background": "light"
     },
     "output_type": "display_data"
    }
   ],
   "source": [
    "_, ax = plt.subplots(figsize = (10, 10))\n",
    "\n",
    "for p, x, y in zip(w2v_df['palavra'], w2v_df['x'], w2v_df['y']):\n",
    "    ax.annotate(p, (x, y))\n",
    "    \n",
    "_P = 1.0\n",
    "ax_min = np.amin(vetores, axis = 0)[0] - _P\n",
    "ax_max = np.amax(vetores, axis = 0)[0] + _P\n",
    "ay_min = np.amin(vetores, axis = 0)[1] - _P\n",
    "ay_max = np.amax(vetores, axis = 0)[1] + _P\n",
    " \n",
    "plt.xlim(ax_min, ax_max)\n",
    "plt.ylim(ay_min, ay_max)"
   ]
  },
  {
   "cell_type": "markdown",
   "metadata": {},
   "source": [
    "## GenSim Word2Vec\n",
    "\n",
    "A biblioteca [Gensim](https://radimrehurek.com/gensim/) traz a implementação de modelos conhecidos para o _embedding_ textual. Dentro dela há um modelo de Word2Vec pronto, vamos aprender como utilizar a biblioteca."
   ]
  },
  {
   "cell_type": "markdown",
   "metadata": {},
   "source": [
    "### Inputs\n",
    "\n",
    "A classe `Word2Vec` espera recebem um array de _tokens_ resultante dos documentos do _corpus_, isso nada mais é que o conteudo de nossos documentos em formato de array onde cada posição guarda uma palavra (_token_) do documento.\n",
    "\n",
    "Já fizemos esta operação e guardamos seu resultado na variável `ss`:"
   ]
  },
  {
   "cell_type": "code",
   "execution_count": 16,
   "metadata": {},
   "outputs": [
    {
     "data": {
      "text/plain": [
       "[['rei', 'homem', 'bravura'],\n",
       " ['rainha', 'mulher', 'sabedoria'],\n",
       " ['menino', 'homem', 'jovem'],\n",
       " ['menina', 'mulher', 'jovem'],\n",
       " ['principe', 'jovem', 'rei'],\n",
       " ['princesa', 'jovem', 'rainha'],\n",
       " ['principe', 'menino', 'rei'],\n",
       " ['princesa', 'menina', 'rainha'],\n",
       " ['homem', 'bruto'],\n",
       " ['mulher', 'bonita']]"
      ]
     },
     "execution_count": 16,
     "metadata": {},
     "output_type": "execute_result"
    }
   ],
   "source": [
    "ss"
   ]
  },
  {
   "cell_type": "code",
   "execution_count": 17,
   "metadata": {},
   "outputs": [],
   "source": [
    "from gensim.models import Word2Vec\n",
    "from sklearn.manifold import TSNE\n",
    "\n",
    "import multiprocessing"
   ]
  },
  {
   "cell_type": "markdown",
   "metadata": {},
   "source": [
    "A classe `Word2Vec` possui alguns parâmetros de configuração que podem ser fornecidos no momento de sua inicialização.\n",
    "\n",
    "Sugiro verificar a [documentação](https://www.pydoc.io/pypi/gensim-3.2.0/autoapi/models/word2vec/index.html#models.word2vec.Word2Vec) para consulta de todas as possibilidades."
   ]
  },
  {
   "cell_type": "code",
   "execution_count": 34,
   "metadata": {},
   "outputs": [
    {
     "name": "stderr",
     "output_type": "stream",
     "text": [
      "WARNING: Logging before flag parsing goes to stderr.\n",
      "W0726 22:07:21.086062 140653923845760 base_any2vec.py:723] consider setting layer size to a multiple of 4 for greater performance\n"
     ]
    }
   ],
   "source": [
    "w2v = Word2Vec(min_count=1, size=5, iter=1, workers=1, batch_words=1, sg=1)"
   ]
  },
  {
   "cell_type": "code",
   "execution_count": 35,
   "metadata": {},
   "outputs": [],
   "source": [
    "w2v.build_vocab(ss)"
   ]
  },
  {
   "cell_type": "code",
   "execution_count": 36,
   "metadata": {},
   "outputs": [
    {
     "name": "stdout",
     "output_type": "stream",
     "text": [
      "Word2Vec - tamanho do vocabulário: 13\n"
     ]
    }
   ],
   "source": [
    "print(\"Word2Vec - tamanho do vocabulário:\", len(w2v.wv.vocab))"
   ]
  },
  {
   "cell_type": "code",
   "execution_count": 37,
   "metadata": {},
   "outputs": [
    {
     "data": {
      "text/plain": [
       "(13, 140)"
      ]
     },
     "execution_count": 37,
     "metadata": {},
     "output_type": "execute_result"
    }
   ],
   "source": [
    "w2v.train(ss, total_examples=len(ss), epochs=5)"
   ]
  },
  {
   "cell_type": "markdown",
   "metadata": {},
   "source": [
    "Traz alguns métodos que facilitam certas operações, por exemplo o método `most_similar(string)` responde sempre com as 10 palavras mais similares na rede em relação a palavra fornecida como parâmetro."
   ]
  },
  {
   "cell_type": "code",
   "execution_count": 38,
   "metadata": {},
   "outputs": [
    {
     "name": "stderr",
     "output_type": "stream",
     "text": [
      "/usr/local/lib/python3.7/site-packages/ipykernel_launcher.py:1: DeprecationWarning: Call to deprecated `most_similar` (Method will be removed in 4.0.0, use self.wv.most_similar() instead).\n",
      "  \"\"\"Entry point for launching an IPython kernel.\n"
     ]
    },
    {
     "data": {
      "text/plain": [
       "[('menino', 0.8206554651260376),\n",
       " ('principe', 0.7086620330810547),\n",
       " ('menina', 0.5647340416908264),\n",
       " ('bravura', 0.4946507513523102),\n",
       " ('mulher', 0.4344739317893982),\n",
       " ('homem', 0.264234721660614),\n",
       " ('jovem', 0.1871151477098465),\n",
       " ('sabedoria', 0.10365021228790283),\n",
       " ('princesa', 0.04722865670919418),\n",
       " ('bonita', -0.17141196131706238)]"
      ]
     },
     "execution_count": 38,
     "metadata": {},
     "output_type": "execute_result"
    }
   ],
   "source": [
    "w2v.most_similar(\"rei\")"
   ]
  },
  {
   "cell_type": "markdown",
   "metadata": {},
   "source": [
    "### t-SNE\n",
    "\n",
    "Dessa vez temos mais do que duas dimensões em nossa camada escondida. Para plotar nossa representação em um plano cartesiano, precisamos reduzir a dimensionalidade de nossa informação.\n",
    "\n",
    "O método t-Distributed Stochastic Neighbor Embedding (t-SNE) é muito conhecido na tarefa de redução de dimensionalidade. Você pode ler mais sobre este assunto neste [link](https://lvdmaaten.github.io/tsne/)."
   ]
  },
  {
   "cell_type": "code",
   "execution_count": 39,
   "metadata": {},
   "outputs": [],
   "source": [
    "tsne = TSNE(n_components=2, random_state=0)"
   ]
  },
  {
   "cell_type": "code",
   "execution_count": 40,
   "metadata": {},
   "outputs": [],
   "source": [
    "word_vectors_matriz = w2v.wv.vectors"
   ]
  },
  {
   "cell_type": "code",
   "execution_count": 41,
   "metadata": {},
   "outputs": [
    {
     "data": {
      "text/plain": [
       "array([[ 7.3382638e-02,  4.0420126e-02,  3.8707130e-02, -3.3096068e-02,\n",
       "         3.4662131e-02],\n",
       "       [ 5.6758523e-02, -4.8855938e-02,  4.1761491e-02, -7.0345886e-02,\n",
       "        -9.5011055e-02],\n",
       "       [-6.3799180e-02, -5.7852309e-02,  2.9231205e-03,  2.1539554e-02,\n",
       "        -6.8613887e-02],\n",
       "       [-8.9758500e-02,  1.5513301e-02, -3.1816125e-02,  9.1763005e-02,\n",
       "        -4.2507369e-02],\n",
       "       [ 7.6380186e-02,  4.6421632e-02,  7.7256702e-02, -8.1732142e-05,\n",
       "        -2.4848707e-02],\n",
       "       [ 2.5181128e-02,  2.2167565e-02,  2.9052800e-02, -8.3984725e-02,\n",
       "        -7.0995666e-02],\n",
       "       [ 7.8470469e-02, -7.0302390e-02, -9.5028415e-02, -6.2976666e-02,\n",
       "        -5.5098247e-02],\n",
       "       [ 1.1996258e-02, -9.2946306e-02,  2.2819608e-02, -6.5449685e-02,\n",
       "        -1.4501191e-02],\n",
       "       [ 5.4381382e-02,  6.4633250e-02, -9.7076753e-03, -3.9939541e-02,\n",
       "         1.7617438e-02],\n",
       "       [ 2.6216470e-02,  5.9235869e-03, -6.9219187e-02, -8.2643211e-02,\n",
       "        -4.8920859e-02],\n",
       "       [-9.0608150e-02,  6.9078244e-02,  7.2021887e-02,  1.5358342e-03,\n",
       "        -8.4474675e-02],\n",
       "       [-9.5555186e-02,  9.7704880e-02, -4.3862324e-02,  9.4226040e-02,\n",
       "         6.0912725e-02],\n",
       "       [ 9.3509808e-02,  7.8760870e-02, -7.0605718e-02, -2.4757259e-02,\n",
       "         4.2012524e-02]], dtype=float32)"
      ]
     },
     "execution_count": 41,
     "metadata": {},
     "output_type": "execute_result"
    }
   ],
   "source": [
    "word_vectors_matriz"
   ]
  },
  {
   "cell_type": "code",
   "execution_count": 42,
   "metadata": {},
   "outputs": [
    {
     "data": {
      "text/plain": [
       "(13, 5)"
      ]
     },
     "execution_count": 42,
     "metadata": {},
     "output_type": "execute_result"
    }
   ],
   "source": [
    "word_vectors_matriz.shape"
   ]
  },
  {
   "cell_type": "code",
   "execution_count": 43,
   "metadata": {},
   "outputs": [],
   "source": [
    "x_y_vetores = tsne.fit_transform(word_vectors_matriz)"
   ]
  },
  {
   "cell_type": "code",
   "execution_count": 44,
   "metadata": {},
   "outputs": [
    {
     "data": {
      "text/plain": [
       "array([[ -94.37683  ,  186.34608  ],\n",
       "       [  31.140198 ,   97.27929  ],\n",
       "       [  63.008263 , -235.67665  ],\n",
       "       [ 184.60393  ,  140.39923  ],\n",
       "       [   9.133788 ,  -94.26909  ],\n",
       "       [ 114.338104 ,   -8.695676 ],\n",
       "       [-191.20082  ,  -81.765625 ],\n",
       "       [ 186.20949  , -142.20813  ],\n",
       "       [ -96.436646 , -201.58868  ],\n",
       "       [  59.316532 ,  244.49103  ],\n",
       "       [ -74.32064  ,   12.727472 ],\n",
       "       [ 264.73828  ,    1.3405815],\n",
       "       [-209.8782   ,   80.136246 ]], dtype=float32)"
      ]
     },
     "execution_count": 44,
     "metadata": {},
     "output_type": "execute_result"
    }
   ],
   "source": [
    "x_y_vetores"
   ]
  },
  {
   "cell_type": "markdown",
   "metadata": {},
   "source": [
    "Agora que temos nosso dado em duas dimensões, podemos unificar nossa informação em um `DataFrame` para facilitar o processamento."
   ]
  },
  {
   "cell_type": "code",
   "execution_count": 45,
   "metadata": {},
   "outputs": [
    {
     "data": {
      "text/html": [
       "<div>\n",
       "<style scoped>\n",
       "    .dataframe tbody tr th:only-of-type {\n",
       "        vertical-align: middle;\n",
       "    }\n",
       "\n",
       "    .dataframe tbody tr th {\n",
       "        vertical-align: top;\n",
       "    }\n",
       "\n",
       "    .dataframe thead th {\n",
       "        text-align: right;\n",
       "    }\n",
       "</style>\n",
       "<table border=\"1\" class=\"dataframe\">\n",
       "  <thead>\n",
       "    <tr style=\"text-align: right;\">\n",
       "      <th></th>\n",
       "      <th>palavra</th>\n",
       "      <th>x</th>\n",
       "      <th>y</th>\n",
       "    </tr>\n",
       "  </thead>\n",
       "  <tbody>\n",
       "    <tr>\n",
       "      <th>0</th>\n",
       "      <td>bravura</td>\n",
       "      <td>-94.376831</td>\n",
       "      <td>186.346085</td>\n",
       "    </tr>\n",
       "    <tr>\n",
       "      <th>1</th>\n",
       "      <td>jovem</td>\n",
       "      <td>31.140198</td>\n",
       "      <td>97.279289</td>\n",
       "    </tr>\n",
       "    <tr>\n",
       "      <th>2</th>\n",
       "      <td>principe</td>\n",
       "      <td>63.008263</td>\n",
       "      <td>-235.676651</td>\n",
       "    </tr>\n",
       "    <tr>\n",
       "      <th>3</th>\n",
       "      <td>bruto</td>\n",
       "      <td>184.603928</td>\n",
       "      <td>140.399231</td>\n",
       "    </tr>\n",
       "    <tr>\n",
       "      <th>4</th>\n",
       "      <td>menina</td>\n",
       "      <td>9.133788</td>\n",
       "      <td>-94.269089</td>\n",
       "    </tr>\n",
       "    <tr>\n",
       "      <th>5</th>\n",
       "      <td>mulher</td>\n",
       "      <td>114.338104</td>\n",
       "      <td>-8.695676</td>\n",
       "    </tr>\n",
       "    <tr>\n",
       "      <th>6</th>\n",
       "      <td>sabedoria</td>\n",
       "      <td>-191.200821</td>\n",
       "      <td>-81.765625</td>\n",
       "    </tr>\n",
       "    <tr>\n",
       "      <th>7</th>\n",
       "      <td>rainha</td>\n",
       "      <td>186.209488</td>\n",
       "      <td>-142.208130</td>\n",
       "    </tr>\n",
       "    <tr>\n",
       "      <th>8</th>\n",
       "      <td>princesa</td>\n",
       "      <td>-96.436646</td>\n",
       "      <td>-201.588684</td>\n",
       "    </tr>\n",
       "    <tr>\n",
       "      <th>9</th>\n",
       "      <td>homem</td>\n",
       "      <td>59.316532</td>\n",
       "      <td>244.491028</td>\n",
       "    </tr>\n",
       "    <tr>\n",
       "      <th>10</th>\n",
       "      <td>rei</td>\n",
       "      <td>-74.320641</td>\n",
       "      <td>12.727472</td>\n",
       "    </tr>\n",
       "    <tr>\n",
       "      <th>11</th>\n",
       "      <td>bonita</td>\n",
       "      <td>264.738281</td>\n",
       "      <td>1.340582</td>\n",
       "    </tr>\n",
       "    <tr>\n",
       "      <th>12</th>\n",
       "      <td>menino</td>\n",
       "      <td>-209.878204</td>\n",
       "      <td>80.136246</td>\n",
       "    </tr>\n",
       "  </tbody>\n",
       "</table>\n",
       "</div>"
      ],
      "text/plain": [
       "      palavra           x           y\n",
       "0     bravura  -94.376831  186.346085\n",
       "1       jovem   31.140198   97.279289\n",
       "2    principe   63.008263 -235.676651\n",
       "3       bruto  184.603928  140.399231\n",
       "4      menina    9.133788  -94.269089\n",
       "5      mulher  114.338104   -8.695676\n",
       "6   sabedoria -191.200821  -81.765625\n",
       "7      rainha  186.209488 -142.208130\n",
       "8    princesa  -96.436646 -201.588684\n",
       "9       homem   59.316532  244.491028\n",
       "10        rei  -74.320641   12.727472\n",
       "11     bonita  264.738281    1.340582\n",
       "12     menino -209.878204   80.136246"
      ]
     },
     "execution_count": 45,
     "metadata": {},
     "output_type": "execute_result"
    }
   ],
   "source": [
    "w2v_df = pd.DataFrame(x_y_vetores, columns = ['x', 'y'])\n",
    "w2v_df['palavra'] = vocabulario\n",
    "w2v_df = w2v_df[['palavra', 'x', 'y']]\n",
    "w2v_df"
   ]
  },
  {
   "cell_type": "markdown",
   "metadata": {},
   "source": [
    "Para facilitar a visualização, padronizamos os dados das colunas `x` e `y`."
   ]
  },
  {
   "cell_type": "code",
   "execution_count": 46,
   "metadata": {},
   "outputs": [],
   "source": [
    "w2v_df['x'] = (w2v_df['x'] - w2v_df['x'].mean())/w2v_df['x'].std()\n",
    "w2v_df['y'] = (w2v_df['y'] - w2v_df['y'].mean())/w2v_df['y'].std()"
   ]
  },
  {
   "cell_type": "code",
   "execution_count": 47,
   "metadata": {},
   "outputs": [
    {
     "data": {
      "text/html": [
       "<div>\n",
       "<style scoped>\n",
       "    .dataframe tbody tr th:only-of-type {\n",
       "        vertical-align: middle;\n",
       "    }\n",
       "\n",
       "    .dataframe tbody tr th {\n",
       "        vertical-align: top;\n",
       "    }\n",
       "\n",
       "    .dataframe thead th {\n",
       "        text-align: right;\n",
       "    }\n",
       "</style>\n",
       "<table border=\"1\" class=\"dataframe\">\n",
       "  <thead>\n",
       "    <tr style=\"text-align: right;\">\n",
       "      <th></th>\n",
       "      <th>palavra</th>\n",
       "      <th>x</th>\n",
       "      <th>y</th>\n",
       "    </tr>\n",
       "  </thead>\n",
       "  <tbody>\n",
       "    <tr>\n",
       "      <th>0</th>\n",
       "      <td>bravura</td>\n",
       "      <td>-0.769680</td>\n",
       "      <td>1.261148</td>\n",
       "    </tr>\n",
       "    <tr>\n",
       "      <th>1</th>\n",
       "      <td>jovem</td>\n",
       "      <td>0.082835</td>\n",
       "      <td>0.658733</td>\n",
       "    </tr>\n",
       "    <tr>\n",
       "      <th>2</th>\n",
       "      <td>principe</td>\n",
       "      <td>0.299284</td>\n",
       "      <td>-1.593258</td>\n",
       "    </tr>\n",
       "    <tr>\n",
       "      <th>3</th>\n",
       "      <td>bruto</td>\n",
       "      <td>1.125164</td>\n",
       "      <td>0.950381</td>\n",
       "    </tr>\n",
       "    <tr>\n",
       "      <th>4</th>\n",
       "      <td>menina</td>\n",
       "      <td>-0.066633</td>\n",
       "      <td>-0.636829</td>\n",
       "    </tr>\n",
       "    <tr>\n",
       "      <th>5</th>\n",
       "      <td>mulher</td>\n",
       "      <td>0.647917</td>\n",
       "      <td>-0.058042</td>\n",
       "    </tr>\n",
       "    <tr>\n",
       "      <th>6</th>\n",
       "      <td>sabedoria</td>\n",
       "      <td>-1.427310</td>\n",
       "      <td>-0.552261</td>\n",
       "    </tr>\n",
       "    <tr>\n",
       "      <th>7</th>\n",
       "      <td>rainha</td>\n",
       "      <td>1.136069</td>\n",
       "      <td>-0.961071</td>\n",
       "    </tr>\n",
       "    <tr>\n",
       "      <th>8</th>\n",
       "      <td>princesa</td>\n",
       "      <td>-0.783670</td>\n",
       "      <td>-1.362700</td>\n",
       "    </tr>\n",
       "    <tr>\n",
       "      <th>9</th>\n",
       "      <td>homem</td>\n",
       "      <td>0.274209</td>\n",
       "      <td>1.654420</td>\n",
       "    </tr>\n",
       "    <tr>\n",
       "      <th>10</th>\n",
       "      <td>rei</td>\n",
       "      <td>-0.633457</td>\n",
       "      <td>0.086856</td>\n",
       "    </tr>\n",
       "    <tr>\n",
       "      <th>11</th>\n",
       "      <td>bonita</td>\n",
       "      <td>1.669439</td>\n",
       "      <td>0.009839</td>\n",
       "    </tr>\n",
       "    <tr>\n",
       "      <th>12</th>\n",
       "      <td>menino</td>\n",
       "      <td>-1.554168</td>\n",
       "      <td>0.542784</td>\n",
       "    </tr>\n",
       "  </tbody>\n",
       "</table>\n",
       "</div>"
      ],
      "text/plain": [
       "      palavra         x         y\n",
       "0     bravura -0.769680  1.261148\n",
       "1       jovem  0.082835  0.658733\n",
       "2    principe  0.299284 -1.593258\n",
       "3       bruto  1.125164  0.950381\n",
       "4      menina -0.066633 -0.636829\n",
       "5      mulher  0.647917 -0.058042\n",
       "6   sabedoria -1.427310 -0.552261\n",
       "7      rainha  1.136069 -0.961071\n",
       "8    princesa -0.783670 -1.362700\n",
       "9       homem  0.274209  1.654420\n",
       "10        rei -0.633457  0.086856\n",
       "11     bonita  1.669439  0.009839\n",
       "12     menino -1.554168  0.542784"
      ]
     },
     "execution_count": 47,
     "metadata": {},
     "output_type": "execute_result"
    }
   ],
   "source": [
    "w2v_df"
   ]
  },
  {
   "cell_type": "code",
   "execution_count": 48,
   "metadata": {},
   "outputs": [
    {
     "data": {
      "image/png": "[encoded data removed]",
      "text/plain": [
       "<Figure size 720x720 with 1 Axes>"
      ]
     },
     "metadata": {
      "needs_background": "light"
     },
     "output_type": "display_data"
    }
   ],
   "source": [
    "_, ax = plt.subplots(figsize = (10, 10))\n",
    "\n",
    "for p, x, y in zip(w2v_df['palavra'], w2v_df['x'], w2v_df['y']):\n",
    "    ax.annotate(p, (x, y))\n",
    "    \n",
    "_P = 1.0\n",
    "ax_min = w2v_df['x'].min() - _P\n",
    "ax_max = w2v_df['x'].max() + _P\n",
    "ay_min = w2v_df['y'].min() - _P\n",
    "ay_max = w2v_df['y'].max() + _P\n",
    " \n",
    "plt.xlim(ax_min, ax_max)\n",
    "plt.ylim(ay_min, ay_max)\n",
    "\n",
    "plt.show()"
   ]
  },
  {
   "cell_type": "markdown",
   "metadata": {},
   "source": [
    "## Desafio\n",
    "\n",
    "### Word2Vec nos laudos de coronária\n",
    "\n",
    "O DataFrame abaixo contém 500 laudos radiológicos de angiotomografia de coronária. O desafio é realizar o mesmo processamento que fizemos nos exemplos acima para preparar o dado e utilizar a classe `Word2Vec` para gerar uma representação vetorial de similaridade deste corpus."
   ]
  },
  {
   "cell_type": "code",
   "execution_count": 22,
   "metadata": {},
   "outputs": [],
   "source": [
    "import pandas as pd\n",
    "import nltk\n",
    "import numpy as np"
   ]
  },
  {
   "cell_type": "code",
   "execution_count": 4,
   "metadata": {},
   "outputs": [
    {
     "name": "stderr",
     "output_type": "stream",
     "text": [
      "[nltk_data] Downloading package stopwords to\n",
      "[nltk_data]     /home/fernando/nltk_data...\n",
      "[nltk_data]   Unzipping corpora/stopwords.zip.\n"
     ]
    },
    {
     "data": {
      "text/plain": [
       "True"
      ]
     },
     "execution_count": 4,
     "metadata": {},
     "output_type": "execute_result"
    }
   ],
   "source": [
    "nltk.download('stopwords')"
   ]
  },
  {
   "cell_type": "code",
   "execution_count": 5,
   "metadata": {},
   "outputs": [],
   "source": [
    "stopwords = nltk.corpus.stopwords.words('portuguese')"
   ]
  },
  {
   "cell_type": "code",
   "execution_count": 7,
   "metadata": {},
   "outputs": [],
   "source": [
    "lista = ['banana', 'abacate', 'e', 'de']"
   ]
  },
  {
   "cell_type": "code",
   "execution_count": 10,
   "metadata": {},
   "outputs": [],
   "source": [
    "lista_tmp = list()\n",
    "\n",
    "for palavra in lista:\n",
    "    if palavra not in stopwords:\n",
    "        lista_tmp.append(palavra)"
   ]
  },
  {
   "cell_type": "code",
   "execution_count": 11,
   "metadata": {},
   "outputs": [
    {
     "data": {
      "text/plain": [
       "['banana', 'abacate']"
      ]
     },
     "execution_count": 11,
     "metadata": {},
     "output_type": "execute_result"
    }
   ],
   "source": [
    "lista_tmp"
   ]
  },
  {
   "cell_type": "code",
   "execution_count": 12,
   "metadata": {},
   "outputs": [],
   "source": [
    "df_coronaria = pd.read_excel('https://raw.githubusercontent.com/pgiaeinstein/nlp/master/data_coronaria.xlsx')"
   ]
  },
  {
   "cell_type": "code",
   "execution_count": 13,
   "metadata": {},
   "outputs": [
    {
     "data": {
      "text/html": [
       "<div>\n",
       "<style scoped>\n",
       "    .dataframe tbody tr th:only-of-type {\n",
       "        vertical-align: middle;\n",
       "    }\n",
       "\n",
       "    .dataframe tbody tr th {\n",
       "        vertical-align: top;\n",
       "    }\n",
       "\n",
       "    .dataframe thead th {\n",
       "        text-align: right;\n",
       "    }\n",
       "</style>\n",
       "<table border=\"1\" class=\"dataframe\">\n",
       "  <thead>\n",
       "    <tr style=\"text-align: right;\">\n",
       "      <th></th>\n",
       "      <th>texto</th>\n",
       "    </tr>\n",
       "  </thead>\n",
       "  <tbody>\n",
       "    <tr>\n",
       "      <th>0</th>\n",
       "      <td>paciente com escore de calcio de zero fase com...</td>\n",
       "    </tr>\n",
       "    <tr>\n",
       "      <th>1</th>\n",
       "      <td>paciente com escore de calcio de zero fase com...</td>\n",
       "    </tr>\n",
       "    <tr>\n",
       "      <th>2</th>\n",
       "      <td>paciente com escore de calcio de zero fase com...</td>\n",
       "    </tr>\n",
       "    <tr>\n",
       "      <th>3</th>\n",
       "      <td>paciente com escore de calcio zero fase com co...</td>\n",
       "    </tr>\n",
       "    <tr>\n",
       "      <th>4</th>\n",
       "      <td>paciente com escore de calcio de zero fase com...</td>\n",
       "    </tr>\n",
       "  </tbody>\n",
       "</table>\n",
       "</div>"
      ],
      "text/plain": [
       "                                               texto\n",
       "0  paciente com escore de calcio de zero fase com...\n",
       "1  paciente com escore de calcio de zero fase com...\n",
       "2  paciente com escore de calcio de zero fase com...\n",
       "3  paciente com escore de calcio zero fase com co...\n",
       "4  paciente com escore de calcio de zero fase com..."
      ]
     },
     "execution_count": 13,
     "metadata": {},
     "output_type": "execute_result"
    }
   ],
   "source": [
    "df_coronaria.head()"
   ]
  },
  {
   "cell_type": "code",
   "execution_count": 33,
   "metadata": {},
   "outputs": [],
   "source": [
    "lista_textos_raw = df_coronaria.iloc[:, 0]"
   ]
  },
  {
   "cell_type": "code",
   "execution_count": 44,
   "metadata": {},
   "outputs": [],
   "source": [
    "import multiprocessing"
   ]
  },
  {
   "cell_type": "code",
   "execution_count": 46,
   "metadata": {},
   "outputs": [
    {
     "data": {
      "text/plain": [
       "4"
      ]
     },
     "execution_count": 46,
     "metadata": {},
     "output_type": "execute_result"
    }
   ],
   "source": [
    "multiprocessing.cpu_count()"
   ]
  },
  {
   "cell_type": "code",
   "execution_count": 39,
   "metadata": {},
   "outputs": [],
   "source": [
    "def texto_para_tokens(lista_textos, lista_stopwords):\n",
    "    \n",
    "    # iniciar uma lista de retorno\n",
    "    lista_retorno = list()\n",
    "    # iterar na minha lista de textos e processar a informacao\n",
    "    for texto in lista_textos:\n",
    "        # criar lista temporario\n",
    "        lista_tmp = list()\n",
    "        # criar uma lista de tokens (metodo split)\n",
    "        lista_tokens = texto.split(' ')\n",
    "        \n",
    "        # iterar em cada token\n",
    "        for token in lista_tokens:\n",
    "            # se o token nao estiver na minha lista de stopwords\n",
    "            if token not in lista_stopwords:\n",
    "                # add lista temporaria\n",
    "                lista_tmp.append(token)\n",
    "                \n",
    "        # add lista retorno\n",
    "        lista_retorno.append(lista_tmp)\n",
    "        \n",
    "    # retorno lista de retorno\n",
    "    return lista_retorno"
   ]
  },
  {
   "cell_type": "code",
   "execution_count": 40,
   "metadata": {},
   "outputs": [],
   "source": [
    "lista_textos = texto_para_tokens(lista_textos_raw, stopwords)"
   ]
  },
  {
   "cell_type": "code",
   "execution_count": 70,
   "metadata": {},
   "outputs": [],
   "source": [
    "from gensim.models import Word2Vec\n",
    "from sklearn.manifold import TSNE\n",
    "\n",
    "import matplotlib.pyplot as plt\n",
    "\n",
    "import multiprocessing"
   ]
  },
  {
   "cell_type": "code",
   "execution_count": 49,
   "metadata": {},
   "outputs": [],
   "source": [
    "w2v = Word2Vec(iter=15, workers=multiprocessing.cpu_count())"
   ]
  },
  {
   "cell_type": "code",
   "execution_count": 50,
   "metadata": {},
   "outputs": [],
   "source": [
    "w2v.build_vocab(lista_textos)"
   ]
  },
  {
   "cell_type": "code",
   "execution_count": 51,
   "metadata": {},
   "outputs": [
    {
     "name": "stdout",
     "output_type": "stream",
     "text": [
      "Word2Vec - tamanho do vocabulário: 214\n"
     ]
    }
   ],
   "source": [
    "print(\"Word2Vec - tamanho do vocabulário:\", len(w2v.wv.vocab))"
   ]
  },
  {
   "cell_type": "code",
   "execution_count": 52,
   "metadata": {},
   "outputs": [
    {
     "data": {
      "text/plain": [
       "(198702, 534810)"
      ]
     },
     "execution_count": 52,
     "metadata": {},
     "output_type": "execute_result"
    }
   ],
   "source": [
    "w2v.train(lista_textos, total_examples=len(w2v.wv.vocab), epochs=15)"
   ]
  },
  {
   "cell_type": "code",
   "execution_count": 75,
   "metadata": {},
   "outputs": [
    {
     "name": "stderr",
     "output_type": "stream",
     "text": [
      "/usr/local/lib/python3.7/site-packages/ipykernel_launcher.py:1: DeprecationWarning: Call to deprecated `most_similar` (Method will be removed in 4.0.0, use self.wv.most_similar() instead).\n",
      "  \"\"\"Entry point for launching an IPython kernel.\n"
     ]
    },
    {
     "data": {
      "text/plain": [
       "[('contraste', 0.9492517113685608),\n",
       " ('dominante', 0.9410584568977356),\n",
       " ('fase', 0.9389059543609619),\n",
       " ('tronco', 0.9215652942657471),\n",
       " ('direita', 0.9149439930915833),\n",
       " ('esquerda', 0.9018687009811401),\n",
       " ('zero', 0.8871407508850098),\n",
       " ('trifurcando', 0.8365598320960999),\n",
       " ('calcio', 0.7868314385414124),\n",
       " ('bifurcando', 0.7854268550872803)]"
      ]
     },
     "execution_count": 75,
     "metadata": {},
     "output_type": "execute_result"
    }
   ],
   "source": [
    "w2v.most_similar(\"coronaria\")"
   ]
  },
  {
   "cell_type": "code",
   "execution_count": 55,
   "metadata": {},
   "outputs": [],
   "source": [
    "tsne = TSNE(n_components=2, random_state=0)"
   ]
  },
  {
   "cell_type": "code",
   "execution_count": 56,
   "metadata": {},
   "outputs": [],
   "source": [
    "word_vectors_matriz = w2v.wv.vectors"
   ]
  },
  {
   "cell_type": "code",
   "execution_count": 57,
   "metadata": {},
   "outputs": [
    {
     "data": {
      "text/plain": [
       "array([[ 0.11434989, -0.6797671 , -0.00781147, ..., -0.19672337,\n",
       "         0.19076031,  0.4516992 ],\n",
       "       [ 0.17795481, -0.6787414 , -0.1583932 , ..., -0.29272634,\n",
       "        -0.14738351,  0.42663997],\n",
       "       [-0.197796  , -0.76252776, -0.38916388, ..., -0.35567588,\n",
       "         0.07306638,  0.6217383 ],\n",
       "       ...,\n",
       "       [ 0.15433715, -0.06852514,  0.01843551, ...,  0.21041341,\n",
       "        -0.03256441, -0.05336257],\n",
       "       [ 0.23079506, -0.06300228,  0.06714953, ...,  0.23747241,\n",
       "        -0.02938794, -0.11008641],\n",
       "       [ 0.07331496, -0.09592201, -0.10903522, ...,  0.16310301,\n",
       "         0.02786694, -0.11693872]], dtype=float32)"
      ]
     },
     "execution_count": 57,
     "metadata": {},
     "output_type": "execute_result"
    }
   ],
   "source": [
    "word_vectors_matriz"
   ]
  },
  {
   "cell_type": "code",
   "execution_count": 58,
   "metadata": {},
   "outputs": [
    {
     "data": {
      "text/plain": [
       "(214, 100)"
      ]
     },
     "execution_count": 58,
     "metadata": {},
     "output_type": "execute_result"
    }
   ],
   "source": [
    "word_vectors_matriz.shape"
   ]
  },
  {
   "cell_type": "code",
   "execution_count": 59,
   "metadata": {},
   "outputs": [],
   "source": [
    "x_y_vetores = tsne.fit_transform(word_vectors_matriz)"
   ]
  },
  {
   "cell_type": "code",
   "execution_count": 62,
   "metadata": {},
   "outputs": [
    {
     "data": {
      "text/plain": [
       "array([[  4.246806 ,  -7.6150236],\n",
       "       [  5.025515 ,  -6.142928 ],\n",
       "       [  5.064742 ,  -6.1391892],\n",
       "       [  2.8294494, -12.1377125],\n",
       "       [  3.001758 , -12.184744 ]], dtype=float32)"
      ]
     },
     "execution_count": 62,
     "metadata": {},
     "output_type": "execute_result"
    }
   ],
   "source": [
    "x_y_vetores[:5]"
   ]
  },
  {
   "cell_type": "markdown",
   "metadata": {},
   "source": [
    "Agora que temos nosso dado em duas dimensões, podemos unificar nossa informação em um `DataFrame` para facilitar o processamento."
   ]
  },
  {
   "cell_type": "code",
   "execution_count": 65,
   "metadata": {},
   "outputs": [
    {
     "data": {
      "text/html": [
       "<div>\n",
       "<style scoped>\n",
       "    .dataframe tbody tr th:only-of-type {\n",
       "        vertical-align: middle;\n",
       "    }\n",
       "\n",
       "    .dataframe tbody tr th {\n",
       "        vertical-align: top;\n",
       "    }\n",
       "\n",
       "    .dataframe thead th {\n",
       "        text-align: right;\n",
       "    }\n",
       "</style>\n",
       "<table border=\"1\" class=\"dataframe\">\n",
       "  <thead>\n",
       "    <tr style=\"text-align: right;\">\n",
       "      <th></th>\n",
       "      <th>palavra</th>\n",
       "      <th>x</th>\n",
       "      <th>y</th>\n",
       "    </tr>\n",
       "  </thead>\n",
       "  <tbody>\n",
       "    <tr>\n",
       "      <th>0</th>\n",
       "      <td>paciente</td>\n",
       "      <td>4.246806</td>\n",
       "      <td>-7.615024</td>\n",
       "    </tr>\n",
       "    <tr>\n",
       "      <th>1</th>\n",
       "      <td>escore</td>\n",
       "      <td>5.025515</td>\n",
       "      <td>-6.142928</td>\n",
       "    </tr>\n",
       "    <tr>\n",
       "      <th>2</th>\n",
       "      <td>calcio</td>\n",
       "      <td>5.064742</td>\n",
       "      <td>-6.139189</td>\n",
       "    </tr>\n",
       "    <tr>\n",
       "      <th>3</th>\n",
       "      <td>zero</td>\n",
       "      <td>2.829449</td>\n",
       "      <td>-12.137712</td>\n",
       "    </tr>\n",
       "    <tr>\n",
       "      <th>4</th>\n",
       "      <td>fase</td>\n",
       "      <td>3.001758</td>\n",
       "      <td>-12.184744</td>\n",
       "    </tr>\n",
       "  </tbody>\n",
       "</table>\n",
       "</div>"
      ],
      "text/plain": [
       "    palavra         x          y\n",
       "0  paciente  4.246806  -7.615024\n",
       "1    escore  5.025515  -6.142928\n",
       "2    calcio  5.064742  -6.139189\n",
       "3      zero  2.829449 -12.137712\n",
       "4      fase  3.001758 -12.184744"
      ]
     },
     "execution_count": 65,
     "metadata": {},
     "output_type": "execute_result"
    }
   ],
   "source": [
    "w2v_df = pd.DataFrame(x_y_vetores, columns = ['x', 'y'])\n",
    "w2v_df['palavra'] = w2v.wv.vocab\n",
    "w2v_df = w2v_df[['palavra', 'x', 'y']]\n",
    "w2v_df.head()"
   ]
  },
  {
   "cell_type": "markdown",
   "metadata": {},
   "source": [
    "Para facilitar a visualização, padronizamos os dados das colunas `x` e `y`."
   ]
  },
  {
   "cell_type": "code",
   "execution_count": 66,
   "metadata": {},
   "outputs": [],
   "source": [
    "w2v_df['x'] = (w2v_df['x'] - w2v_df['x'].mean())/w2v_df['x'].std()\n",
    "w2v_df['y'] = (w2v_df['y'] - w2v_df['y'].mean())/w2v_df['y'].std()"
   ]
  },
  {
   "cell_type": "code",
   "execution_count": 68,
   "metadata": {},
   "outputs": [
    {
     "data": {
      "text/html": [
       "<div>\n",
       "<style scoped>\n",
       "    .dataframe tbody tr th:only-of-type {\n",
       "        vertical-align: middle;\n",
       "    }\n",
       "\n",
       "    .dataframe tbody tr th {\n",
       "        vertical-align: top;\n",
       "    }\n",
       "\n",
       "    .dataframe thead th {\n",
       "        text-align: right;\n",
       "    }\n",
       "</style>\n",
       "<table border=\"1\" class=\"dataframe\">\n",
       "  <thead>\n",
       "    <tr style=\"text-align: right;\">\n",
       "      <th></th>\n",
       "      <th>palavra</th>\n",
       "      <th>x</th>\n",
       "      <th>y</th>\n",
       "    </tr>\n",
       "  </thead>\n",
       "  <tbody>\n",
       "    <tr>\n",
       "      <th>0</th>\n",
       "      <td>paciente</td>\n",
       "      <td>0.889317</td>\n",
       "      <td>-0.965759</td>\n",
       "    </tr>\n",
       "    <tr>\n",
       "      <th>1</th>\n",
       "      <td>escore</td>\n",
       "      <td>1.032641</td>\n",
       "      <td>-0.763015</td>\n",
       "    </tr>\n",
       "    <tr>\n",
       "      <th>2</th>\n",
       "      <td>calcio</td>\n",
       "      <td>1.039861</td>\n",
       "      <td>-0.762500</td>\n",
       "    </tr>\n",
       "    <tr>\n",
       "      <th>3</th>\n",
       "      <td>zero</td>\n",
       "      <td>0.628447</td>\n",
       "      <td>-1.588646</td>\n",
       "    </tr>\n",
       "    <tr>\n",
       "      <th>4</th>\n",
       "      <td>fase</td>\n",
       "      <td>0.660161</td>\n",
       "      <td>-1.595123</td>\n",
       "    </tr>\n",
       "  </tbody>\n",
       "</table>\n",
       "</div>"
      ],
      "text/plain": [
       "    palavra         x         y\n",
       "0  paciente  0.889317 -0.965759\n",
       "1    escore  1.032641 -0.763015\n",
       "2    calcio  1.039861 -0.762500\n",
       "3      zero  0.628447 -1.588646\n",
       "4      fase  0.660161 -1.595123"
      ]
     },
     "execution_count": 68,
     "metadata": {},
     "output_type": "execute_result"
    }
   ],
   "source": [
    "w2v_df.head()"
   ]
  },
  {
   "cell_type": "code",
   "execution_count": 71,
   "metadata": {},
   "outputs": [
    {
     "data": {
      "image/png": "[encoded data removed]",
      "text/plain": [
       "<Figure size 720x720 with 1 Axes>"
      ]
     },
     "metadata": {
      "needs_background": "light"
     },
     "output_type": "display_data"
    }
   ],
   "source": [
    "_, ax = plt.subplots(figsize = (10, 10))\n",
    "\n",
    "for p, x, y in zip(w2v_df['palavra'], w2v_df['x'], w2v_df['y']):\n",
    "    ax.annotate(p, (x, y))\n",
    "    \n",
    "_P = 1.0\n",
    "ax_min = w2v_df['x'].min() - _P\n",
    "ax_max = w2v_df['x'].max() + _P\n",
    "ay_min = w2v_df['y'].min() - _P\n",
    "ay_max = w2v_df['y'].max() + _P\n",
    " \n",
    "plt.xlim(ax_min, ax_max)\n",
    "plt.ylim(ay_min, ay_max)\n",
    "\n",
    "plt.show()"
   ]
  },
  {
   "cell_type": "code",
   "execution_count": 72,
   "metadata": {},
   "outputs": [
    {
     "data": {
      "text/html": [
       "\n",
       "    <div class=\"bk-root\">\n",
       "        <a href=\"https://bokeh.pydata.org\" target=\"_blank\" class=\"bk-logo bk-logo-small bk-logo-notebook\"></a>\n",
       "        <span id=\"1001\">Loading BokehJS ...</span>\n",
       "    </div>"
      ]
     },
     "metadata": {},
     "output_type": "display_data"
    },
    {
     "data": {
      "application/javascript": [
       "\n",
       "(function(root) {\n",
       "  function now() {\n",
       "    return new Date();\n",
       "  }\n",
       "\n",
       "  var force = true;\n",
       "\n",
       "  if (typeof root._bokeh_onload_callbacks === \"undefined\" || force === true) {\n",
       "    root._bokeh_onload_callbacks = [];\n",
       "    root._bokeh_is_loading = undefined;\n",
       "  }\n",
       "\n",
       "  var JS_MIME_TYPE = 'application/javascript';\n",
       "  var HTML_MIME_TYPE = 'text/html';\n",
       "  var EXEC_MIME_TYPE = 'application/vnd.bokehjs_exec.v0+json';\n",
       "  var CLASS_NAME = 'output_bokeh rendered_html';\n",
       "\n",
       "  /**\n",
       "   * Render data to the DOM node\n",
       "   */\n",
       "  function render(props, node) {\n",
       "    var script = document.createElement(\"script\");\n",
       "    node.appendChild(script);\n",
       "  }\n",
       "\n",
       "  /**\n",
       "   * Handle when an output is cleared or removed\n",
       "   */\n",
       "  function handleClearOutput(event, handle) {\n",
       "    var cell = handle.cell;\n",
       "\n",
       "    var id = cell.output_area._bokeh_element_id;\n",
       "    var server_id = cell.output_area._bokeh_server_id;\n",
       "    // Clean up Bokeh references\n",
       "    if (id != null && id in Bokeh.index) {\n",
       "      Bokeh.index[id].model.document.clear();\n",
       "      delete Bokeh.index[id];\n",
       "    }\n",
       "\n",
       "    if (server_id !== undefined) {\n",
       "      // Clean up Bokeh references\n",
       "      var cmd = \"from bokeh.io.state import curstate; print(curstate().uuid_to_server['\" + server_id + \"'].get_sessions()[0].document.roots[0]._id)\";\n",
       "      cell.notebook.kernel.execute(cmd, {\n",
       "        iopub: {\n",
       "          output: function(msg) {\n",
       "            var id = msg.content.text.trim();\n",
       "            if (id in Bokeh.index) {\n",
       "              Bokeh.index[id].model.document.clear();\n",
       "              delete Bokeh.index[id];\n",
       "            }\n",
       "          }\n",
       "        }\n",
       "      });\n",
       "      // Destroy server and session\n",
       "      var cmd = \"import bokeh.io.notebook as ion; ion.destroy_server('\" + server_id + \"')\";\n",
       "      cell.notebook.kernel.execute(cmd);\n",
       "    }\n",
       "  }\n",
       "\n",
       "  /**\n",
       "   * Handle when a new output is added\n",
       "   */\n",
       "  function handleAddOutput(event, handle) {\n",
       "    var output_area = handle.output_area;\n",
       "    var output = handle.output;\n",
       "\n",
       "    // limit handleAddOutput to display_data with EXEC_MIME_TYPE content only\n",
       "    if ((output.output_type != \"display_data\") || (!output.data.hasOwnProperty(EXEC_MIME_TYPE))) {\n",
       "      return\n",
       "    }\n",
       "\n",
       "    var toinsert = output_area.element.find(\".\" + CLASS_NAME.split(' ')[0]);\n",
       "\n",
       "    if (output.metadata[EXEC_MIME_TYPE][\"id\"] !== undefined) {\n",
       "      toinsert[toinsert.length - 1].firstChild.textContent = output.data[JS_MIME_TYPE];\n",
       "      // store reference to embed id on output_area\n",
       "      output_area._bokeh_element_id = output.metadata[EXEC_MIME_TYPE][\"id\"];\n",
       "    }\n",
       "    if (output.metadata[EXEC_MIME_TYPE][\"server_id\"] !== undefined) {\n",
       "      var bk_div = document.createElement(\"div\");\n",
       "      bk_div.innerHTML = output.data[HTML_MIME_TYPE];\n",
       "      var script_attrs = bk_div.children[0].attributes;\n",
       "      for (var i = 0; i < script_attrs.length; i++) {\n",
       "        toinsert[toinsert.length - 1].firstChild.setAttribute(script_attrs[i].name, script_attrs[i].value);\n",
       "      }\n",
       "      // store reference to server id on output_area\n",
       "      output_area._bokeh_server_id = output.metadata[EXEC_MIME_TYPE][\"server_id\"];\n",
       "    }\n",
       "  }\n",
       "\n",
       "  function register_renderer(events, OutputArea) {\n",
       "\n",
       "    function append_mime(data, metadata, element) {\n",
       "      // create a DOM node to render to\n",
       "      var toinsert = this.create_output_subarea(\n",
       "        metadata,\n",
       "        CLASS_NAME,\n",
       "        EXEC_MIME_TYPE\n",
       "      );\n",
       "      this.keyboard_manager.register_events(toinsert);\n",
       "      // Render to node\n",
       "      var props = {data: data, metadata: metadata[EXEC_MIME_TYPE]};\n",
       "      render(props, toinsert[toinsert.length - 1]);\n",
       "      element.append(toinsert);\n",
       "      return toinsert\n",
       "    }\n",
       "\n",
       "    /* Handle when an output is cleared or removed */\n",
       "    events.on('clear_output.CodeCell', handleClearOutput);\n",
       "    events.on('delete.Cell', handleClearOutput);\n",
       "\n",
       "    /* Handle when a new output is added */\n",
       "    events.on('output_added.OutputArea', handleAddOutput);\n",
       "\n",
       "    /**\n",
       "     * Register the mime type and append_mime function with output_area\n",
       "     */\n",
       "    OutputArea.prototype.register_mime_type(EXEC_MIME_TYPE, append_mime, {\n",
       "      /* Is output safe? */\n",
       "      safe: true,\n",
       "      /* Index of renderer in `output_area.display_order` */\n",
       "      index: 0\n",
       "    });\n",
       "  }\n",
       "\n",
       "  // register the mime type if in Jupyter Notebook environment and previously unregistered\n",
       "  if (root.Jupyter !== undefined) {\n",
       "    var events = require('base/js/events');\n",
       "    var OutputArea = require('notebook/js/outputarea').OutputArea;\n",
       "\n",
       "    if (OutputArea.prototype.mime_types().indexOf(EXEC_MIME_TYPE) == -1) {\n",
       "      register_renderer(events, OutputArea);\n",
       "    }\n",
       "  }\n",
       "\n",
       "  \n",
       "  if (typeof (root._bokeh_timeout) === \"undefined\" || force === true) {\n",
       "    root._bokeh_timeout = Date.now() + 5000;\n",
       "    root._bokeh_failed_load = false;\n",
       "  }\n",
       "\n",
       "  var NB_LOAD_WARNING = {'data': {'text/html':\n",
       "     \"<div style='background-color: #fdd'>\\n\"+\n",
       "     \"<p>\\n\"+\n",
       "     \"BokehJS does not appear to have successfully loaded. If loading BokehJS from CDN, this \\n\"+\n",
       "     \"may be due to a slow or bad network connection. Possible fixes:\\n\"+\n",
       "     \"</p>\\n\"+\n",
       "     \"<ul>\\n\"+\n",
       "     \"<li>re-rerun `output_notebook()` to attempt to load from CDN again, or</li>\\n\"+\n",
       "     \"<li>use INLINE resources instead, as so:</li>\\n\"+\n",
       "     \"</ul>\\n\"+\n",
       "     \"<code>\\n\"+\n",
       "     \"from bokeh.resources import INLINE\\n\"+\n",
       "     \"output_notebook(resources=INLINE)\\n\"+\n",
       "     \"</code>\\n\"+\n",
       "     \"</div>\"}};\n",
       "\n",
       "  function display_loaded() {\n",
       "    var el = document.getElementById(\"1001\");\n",
       "    if (el != null) {\n",
       "      el.textContent = \"BokehJS is loading...\";\n",
       "    }\n",
       "    if (root.Bokeh !== undefined) {\n",
       "      if (el != null) {\n",
       "        el.textContent = \"BokehJS \" + root.Bokeh.version + \" successfully loaded.\";\n",
       "      }\n",
       "    } else if (Date.now() < root._bokeh_timeout) {\n",
       "      setTimeout(display_loaded, 100)\n",
       "    }\n",
       "  }\n",
       "\n",
       "\n",
       "  function run_callbacks() {\n",
       "    try {\n",
       "      root._bokeh_onload_callbacks.forEach(function(callback) {\n",
       "        if (callback != null)\n",
       "          callback();\n",
       "      });\n",
       "    } finally {\n",
       "      delete root._bokeh_onload_callbacks\n",
       "    }\n",
       "    console.debug(\"Bokeh: all callbacks have finished\");\n",
       "  }\n",
       "\n",
       "  function load_libs(css_urls, js_urls, callback) {\n",
       "    if (css_urls == null) css_urls = [];\n",
       "    if (js_urls == null) js_urls = [];\n",
       "\n",
       "    root._bokeh_onload_callbacks.push(callback);\n",
       "    if (root._bokeh_is_loading > 0) {\n",
       "      console.debug(\"Bokeh: BokehJS is being loaded, scheduling callback at\", now());\n",
       "      return null;\n",
       "    }\n",
       "    if (js_urls == null || js_urls.length === 0) {\n",
       "      run_callbacks();\n",
       "      return null;\n",
       "    }\n",
       "    console.debug(\"Bokeh: BokehJS not loaded, scheduling load and callback at\", now());\n",
       "    root._bokeh_is_loading = css_urls.length + js_urls.length;\n",
       "\n",
       "    function on_load() {\n",
       "      root._bokeh_is_loading--;\n",
       "      if (root._bokeh_is_loading === 0) {\n",
       "        console.debug(\"Bokeh: all BokehJS libraries/stylesheets loaded\");\n",
       "        run_callbacks()\n",
       "      }\n",
       "    }\n",
       "\n",
       "    function on_error() {\n",
       "      console.error(\"failed to load \" + url);\n",
       "    }\n",
       "\n",
       "    for (var i = 0; i < css_urls.length; i++) {\n",
       "      var url = css_urls[i];\n",
       "      const element = document.createElement(\"link\");\n",
       "      element.onload = on_load;\n",
       "      element.onerror = on_error;\n",
       "      element.rel = \"stylesheet\";\n",
       "      element.type = \"text/css\";\n",
       "      element.href = url;\n",
       "      console.debug(\"Bokeh: injecting link tag for BokehJS stylesheet: \", url);\n",
       "      document.body.appendChild(element);\n",
       "    }\n",
       "\n",
       "    for (var i = 0; i < js_urls.length; i++) {\n",
       "      var url = js_urls[i];\n",
       "      var element = document.createElement('script');\n",
       "      element.onload = on_load;\n",
       "      element.onerror = on_error;\n",
       "      element.async = false;\n",
       "      element.src = url;\n",
       "      console.debug(\"Bokeh: injecting script tag for BokehJS library: \", url);\n",
       "      document.head.appendChild(element);\n",
       "    }\n",
       "  };var element = document.getElementById(\"1001\");\n",
       "  if (element == null) {\n",
       "    console.error(\"Bokeh: ERROR: autoload.js configured with elementid '1001' but no matching script tag was found. \")\n",
       "    return false;\n",
       "  }\n",
       "\n",
       "  function inject_raw_css(css) {\n",
       "    const element = document.createElement(\"style\");\n",
       "    element.appendChild(document.createTextNode(css));\n",
       "    document.body.appendChild(element);\n",
       "  }\n",
       "\n",
       "  var js_urls = [\"https://cdn.pydata.org/bokeh/release/bokeh-1.3.0.min.js\", \"https://cdn.pydata.org/bokeh/release/bokeh-widgets-1.3.0.min.js\", \"https://cdn.pydata.org/bokeh/release/bokeh-tables-1.3.0.min.js\", \"https://cdn.pydata.org/bokeh/release/bokeh-gl-1.3.0.min.js\"];\n",
       "  var css_urls = [];\n",
       "\n",
       "  var inline_js = [\n",
       "    function(Bokeh) {\n",
       "      Bokeh.set_log_level(\"info\");\n",
       "    },\n",
       "    \n",
       "    function(Bokeh) {\n",
       "      \n",
       "    },\n",
       "    function(Bokeh) {} // ensure no trailing comma for IE\n",
       "  ];\n",
       "\n",
       "  function run_inline_js() {\n",
       "    \n",
       "    if ((root.Bokeh !== undefined) || (force === true)) {\n",
       "      for (var i = 0; i < inline_js.length; i++) {\n",
       "        inline_js[i].call(root, root.Bokeh);\n",
       "      }if (force === true) {\n",
       "        display_loaded();\n",
       "      }} else if (Date.now() < root._bokeh_timeout) {\n",
       "      setTimeout(run_inline_js, 100);\n",
       "    } else if (!root._bokeh_failed_load) {\n",
       "      console.log(\"Bokeh: BokehJS failed to load within specified timeout.\");\n",
       "      root._bokeh_failed_load = true;\n",
       "    } else if (force !== true) {\n",
       "      var cell = $(document.getElementById(\"1001\")).parents('.cell').data().cell;\n",
       "      cell.output_area.append_execute_result(NB_LOAD_WARNING)\n",
       "    }\n",
       "\n",
       "  }\n",
       "\n",
       "  if (root._bokeh_is_loading === 0) {\n",
       "    console.debug(\"Bokeh: BokehJS loaded, going straight to plotting\");\n",
       "    run_inline_js();\n",
       "  } else {\n",
       "    load_libs(css_urls, js_urls, function() {\n",
       "      console.debug(\"Bokeh: BokehJS plotting callback run at\", now());\n",
       "      run_inline_js();\n",
       "    });\n",
       "  }\n",
       "}(window));"
      ],
      "application/vnd.bokehjs_load.v0+json": "\n(function(root) {\n  function now() {\n    return new Date();\n  }\n\n  var force = true;\n\n  if (typeof root._bokeh_onload_callbacks === \"undefined\" || force === true) {\n    root._bokeh_onload_callbacks = [];\n    root._bokeh_is_loading = undefined;\n  }\n\n  \n\n  \n  if (typeof (root._bokeh_timeout) === \"undefined\" || force === true) {\n    root._bokeh_timeout = Date.now() + 5000;\n    root._bokeh_failed_load = false;\n  }\n\n  var NB_LOAD_WARNING = {'data': {'text/html':\n     \"<div style='background-color: #fdd'>\\n\"+\n     \"<p>\\n\"+\n     \"BokehJS does not appear to have successfully loaded. If loading BokehJS from CDN, this \\n\"+\n     \"may be due to a slow or bad network connection. Possible fixes:\\n\"+\n     \"</p>\\n\"+\n     \"<ul>\\n\"+\n     \"<li>re-rerun `output_notebook()` to attempt to load from CDN again, or</li>\\n\"+\n     \"<li>use INLINE resources instead, as so:</li>\\n\"+\n     \"</ul>\\n\"+\n     \"<code>\\n\"+\n     \"from bokeh.resources import INLINE\\n\"+\n     \"output_notebook(resources=INLINE)\\n\"+\n     \"</code>\\n\"+\n     \"</div>\"}};\n\n  function display_loaded() {\n    var el = document.getElementById(\"1001\");\n    if (el != null) {\n      el.textContent = \"BokehJS is loading...\";\n    }\n    if (root.Bokeh !== undefined) {\n      if (el != null) {\n        el.textContent = \"BokehJS \" + root.Bokeh.version + \" successfully loaded.\";\n      }\n    } else if (Date.now() < root._bokeh_timeout) {\n      setTimeout(display_loaded, 100)\n    }\n  }\n\n\n  function run_callbacks() {\n    try {\n      root._bokeh_onload_callbacks.forEach(function(callback) {\n        if (callback != null)\n          callback();\n      });\n    } finally {\n      delete root._bokeh_onload_callbacks\n    }\n    console.debug(\"Bokeh: all callbacks have finished\");\n  }\n\n  function load_libs(css_urls, js_urls, callback) {\n    if (css_urls == null) css_urls = [];\n    if (js_urls == null) js_urls = [];\n\n    root._bokeh_onload_callbacks.push(callback);\n    if (root._bokeh_is_loading > 0) {\n      console.debug(\"Bokeh: BokehJS is being loaded, scheduling callback at\", now());\n      return null;\n    }\n    if (js_urls == null || js_urls.length === 0) {\n      run_callbacks();\n      return null;\n    }\n    console.debug(\"Bokeh: BokehJS not loaded, scheduling load and callback at\", now());\n    root._bokeh_is_loading = css_urls.length + js_urls.length;\n\n    function on_load() {\n      root._bokeh_is_loading--;\n      if (root._bokeh_is_loading === 0) {\n        console.debug(\"Bokeh: all BokehJS libraries/stylesheets loaded\");\n        run_callbacks()\n      }\n    }\n\n    function on_error() {\n      console.error(\"failed to load \" + url);\n    }\n\n    for (var i = 0; i < css_urls.length; i++) {\n      var url = css_urls[i];\n      const element = document.createElement(\"link\");\n      element.onload = on_load;\n      element.onerror = on_error;\n      element.rel = \"stylesheet\";\n      element.type = \"text/css\";\n      element.href = url;\n      console.debug(\"Bokeh: injecting link tag for BokehJS stylesheet: \", url);\n      document.body.appendChild(element);\n    }\n\n    for (var i = 0; i < js_urls.length; i++) {\n      var url = js_urls[i];\n      var element = document.createElement('script');\n      element.onload = on_load;\n      element.onerror = on_error;\n      element.async = false;\n      element.src = url;\n      console.debug(\"Bokeh: injecting script tag for BokehJS library: \", url);\n      document.head.appendChild(element);\n    }\n  };var element = document.getElementById(\"1001\");\n  if (element == null) {\n    console.error(\"Bokeh: ERROR: autoload.js configured with elementid '1001' but no matching script tag was found. \")\n    return false;\n  }\n\n  function inject_raw_css(css) {\n    const element = document.createElement(\"style\");\n    element.appendChild(document.createTextNode(css));\n    document.body.appendChild(element);\n  }\n\n  var js_urls = [\"https://cdn.pydata.org/bokeh/release/bokeh-1.3.0.min.js\", \"https://cdn.pydata.org/bokeh/release/bokeh-widgets-1.3.0.min.js\", \"https://cdn.pydata.org/bokeh/release/bokeh-tables-1.3.0.min.js\", \"https://cdn.pydata.org/bokeh/release/bokeh-gl-1.3.0.min.js\"];\n  var css_urls = [];\n\n  var inline_js = [\n    function(Bokeh) {\n      Bokeh.set_log_level(\"info\");\n    },\n    \n    function(Bokeh) {\n      \n    },\n    function(Bokeh) {} // ensure no trailing comma for IE\n  ];\n\n  function run_inline_js() {\n    \n    if ((root.Bokeh !== undefined) || (force === true)) {\n      for (var i = 0; i < inline_js.length; i++) {\n        inline_js[i].call(root, root.Bokeh);\n      }if (force === true) {\n        display_loaded();\n      }} else if (Date.now() < root._bokeh_timeout) {\n      setTimeout(run_inline_js, 100);\n    } else if (!root._bokeh_failed_load) {\n      console.log(\"Bokeh: BokehJS failed to load within specified timeout.\");\n      root._bokeh_failed_load = true;\n    } else if (force !== true) {\n      var cell = $(document.getElementById(\"1001\")).parents('.cell').data().cell;\n      cell.output_area.append_execute_result(NB_LOAD_WARNING)\n    }\n\n  }\n\n  if (root._bokeh_is_loading === 0) {\n    console.debug(\"Bokeh: BokehJS loaded, going straight to plotting\");\n    run_inline_js();\n  } else {\n    load_libs(css_urls, js_urls, function() {\n      console.debug(\"Bokeh: BokehJS plotting callback run at\", now());\n      run_inline_js();\n    });\n  }\n}(window));"
     },
     "metadata": {},
     "output_type": "display_data"
    }
   ],
   "source": [
    "from bokeh.models import HoverTool\n",
    "from bokeh.models import ColumnDataSource\n",
    "from bokeh.io import output_notebook, show\n",
    "from bokeh.plotting import figure\n",
    "output_notebook()"
   ]
  },
  {
   "cell_type": "code",
   "execution_count": 73,
   "metadata": {},
   "outputs": [
    {
     "data": {
      "text/html": [
       "\n",
       "\n",
       "\n",
       "\n",
       "\n",
       "\n",
       "  <div class=\"bk-root\" id=\"9687a971-e14f-49f8-8e6c-e412d6471cff\" data-root-id=\"1004\"></div>\n"
      ]
     },
     "metadata": {},
     "output_type": "display_data"
    },
    {
     "data": {
      "application/javascript": [
       "(function(root) {\n",
       "  function embed_document(root) {\n",
       "    \n",
       "  var docs_json = {\"5885b7c3-e280-462c-a6e3-c2fc526c0e48\":{\"roots\":{\"references\":[{\"attributes\":{\"below\":[{\"id\":\"1015\",\"type\":\"LinearAxis\"}],\"center\":[{\"id\":\"1019\",\"type\":\"Grid\"},{\"id\":\"1024\",\"type\":\"Grid\"}],\"left\":[{\"id\":\"1020\",\"type\":\"LinearAxis\"}],\"plot_height\":800,\"plot_width\":900,\"renderers\":[{\"id\":\"1030\",\"type\":\"GlyphRenderer\"}],\"title\":{\"id\":\"1005\",\"type\":\"Title\"},\"toolbar\":{\"id\":\"1025\",\"type\":\"Toolbar\"},\"x_range\":{\"id\":\"1007\",\"type\":\"DataRange1d\"},\"x_scale\":{\"id\":\"1011\",\"type\":\"LinearScale\"},\"y_range\":{\"id\":\"1009\",\"type\":\"DataRange1d\"},\"y_scale\":{\"id\":\"1013\",\"type\":\"LinearScale\"}},\"id\":\"1004\",\"subtype\":\"Figure\",\"type\":\"Plot\"},{\"attributes\":{},\"id\":\"1036\",\"type\":\"BasicTickFormatter\"},{\"attributes\":{\"callback\":null},\"id\":\"1009\",\"type\":\"DataRange1d\"},{\"attributes\":{},\"id\":\"1037\",\"type\":\"UnionRenderers\"},{\"attributes\":{\"text\":\"Word2Vec nos laudos de coron\\u00e1ria\"},\"id\":\"1005\",\"type\":\"Title\"},{\"attributes\":{},\"id\":\"1038\",\"type\":\"Selection\"},{\"attributes\":{\"formatter\":{\"id\":\"1034\",\"type\":\"BasicTickFormatter\"},\"ticker\":{\"id\":\"1016\",\"type\":\"BasicTicker\"}},\"id\":\"1015\",\"type\":\"LinearAxis\"},{\"attributes\":{},\"id\":\"1011\",\"type\":\"LinearScale\"},{\"attributes\":{\"active_drag\":\"auto\",\"active_inspect\":\"auto\",\"active_multi\":null,\"active_scroll\":\"auto\",\"active_tap\":\"auto\",\"tools\":[{\"id\":\"1003\",\"type\":\"HoverTool\"}]},\"id\":\"1025\",\"type\":\"Toolbar\"},{\"attributes\":{},\"id\":\"1013\",\"type\":\"LinearScale\"},{\"attributes\":{},\"id\":\"1016\",\"type\":\"BasicTicker\"},{\"attributes\":{\"callback\":null,\"tooltips\":[[\"DESC\",\"@desc\"],[\"(x,y)\",\"($x, $y)\"]]},\"id\":\"1003\",\"type\":\"HoverTool\"},{\"attributes\":{\"ticker\":{\"id\":\"1016\",\"type\":\"BasicTicker\"}},\"id\":\"1019\",\"type\":\"Grid\"},{\"attributes\":{\"formatter\":{\"id\":\"1036\",\"type\":\"BasicTickFormatter\"},\"ticker\":{\"id\":\"1021\",\"type\":\"BasicTicker\"}},\"id\":\"1020\",\"type\":\"LinearAxis\"},{\"attributes\":{},\"id\":\"1021\",\"type\":\"BasicTicker\"},{\"attributes\":{\"dimension\":1,\"ticker\":{\"id\":\"1021\",\"type\":\"BasicTicker\"}},\"id\":\"1024\",\"type\":\"Grid\"},{\"attributes\":{\"callback\":null},\"id\":\"1007\",\"type\":\"DataRange1d\"},{\"attributes\":{\"fill_color\":{\"value\":\"#1f77b4\"},\"line_color\":{\"value\":\"#1f77b4\"},\"size\":{\"units\":\"screen\",\"value\":5},\"x\":{\"field\":\"x\"},\"y\":{\"field\":\"y\"}},\"id\":\"1028\",\"type\":\"Circle\"},{\"attributes\":{\"fill_alpha\":{\"value\":0.1},\"fill_color\":{\"value\":\"#1f77b4\"},\"line_alpha\":{\"value\":0.1},\"line_color\":{\"value\":\"#1f77b4\"},\"size\":{\"units\":\"screen\",\"value\":5},\"x\":{\"field\":\"x\"},\"y\":{\"field\":\"y\"}},\"id\":\"1029\",\"type\":\"Circle\"},{\"attributes\":{\"callback\":null,\"data\":{\"desc\":[\"paciente\",\"escore\",\"calcio\",\"zero\",\"fase\",\"contraste\",\"coronaria\",\"esquerda\",\"dominante\",\"tronco\",\"trajeto\",\"calibre\",\"normais\",\"bifurcando\",\"descendente\",\"anterior\",\"circunflexa\",\"arteria\",\"grande\",\"importancia\",\"primeiro\",\"segundo\",\"terceiro\",\"ramos\",\"diagonais\",\"fino\",\"reducao\",\"luminal\",\"ramo\",\"marginal\",\"moderado\",\"arterias\",\"posterior\",\"ventricular\",\"direita\",\"apenas\",\"ventriculo\",\"direito\",\"pequeno\",\"ambos\",\"discretas\",\"irregularidades\",\"parietais\",\"proximais\",\"lesoes\",\"evidentes\",\"intramiocardico\",\"segmentos\",\"medio\",\"distal\",\"diagonal\",\"significativa\",\"longo\",\"segmento\",\"restante\",\"vaso\",\"bifurcado\",\"origem\",\"precoce\",\"igual\",\"percentil\",\"50\",\"75\",\"faixa\",\"etaria\",\"sexo\",\"placas\",\"calcificadas\",\"determinando\",\"bifurca\",\"placa\",\"parcialmente\",\"calcificada\",\"proximal\",\"discreta\",\"apresenta\",\"circulacao\",\"coronariana\",\"balanceada\",\"artefatos\",\"movimento\",\"limitando\",\"analise\",\"apos\",\"irrigando\",\"parede\",\"lateral\",\"esquerdo\",\"filiforme\",\"avaliacao\",\"limitada\",\"metodo\",\"expressao\",\"0\",\"curto\",\"variacao\",\"anatomica\",\"contornando\",\"apice\",\"cardiaco\",\"terminando\",\"normal\",\"cruzando\",\"ramificado\",\"sao\",\"ambas\",\"trifurcando\",\"diagonalis\",\"pervio\",\"pervia\",\"ultrapassando\",\"predominantemente\",\"esparsas\",\"pequena\",\"irregularidade\",\"parietal\",\"longa\",\"apex\",\"terco\",\"tambem\",\"apresentando\",\"calibres\",\"marginais\",\"acima\",\"90\",\"areas\",\"aorta\",\"pouco\",\"plano\",\"juncao\",\"sinotubular\",\"precocemente\",\"septal\",\"ectasia\",\"8\",\"cm\",\"reducoes\",\"luminais\",\"filiformes\",\"pervios\",\"moderada\",\"continua\",\"focal\",\"nao\",\"abaixo\",\"trifurca\",\"todos\",\"pequenas\",\"coronarianas\",\"determina\",\"bifurcacao\",\"3\",\"25\",\"determinam\",\"percentis\",\"diminuta\",\"junto\",\"emergencia\",\"aparentemente\",\"remodelamento\",\"positivo\",\"demais\",\"1\",\"quarto\",\"transicao\",\"associado\",\"leito\",\"achado\",\"nodulo\",\"pulmonar\",\"calcificado\",\"lobo\",\"inferior\",\"inacessivel\",\"seio\",\"valsalva\",\"minimas\",\"preservados\",\"continuando\",\"achados\",\"adicionais\",\"4\",\"sendo\",\"diminutas\",\"metade\",\"densamente\",\"logo\",\"proxima\",\"outras\",\"exibe\",\"interventricular\",\"significativas\",\"movimentacao\",\"bifurcada\",\"angulacao\",\"sinais\",\"toracicos\",\"descritos\",\"estudo\",\"especifico\",\"realizado\",\"mesma\",\"data\",\"estenosantes\",\"camaras\",\"direitas\",\"proximo\",\"duplicada\",\"todo\",\"atingindo\",\"obstrutivas\",\"correspondendo\",\"normalidade\",\"somente\"],\"x\":{\"__ndarray__\":\"RKpjP5UthD8qGoU/5+EgP1AAKT9b6cU/Zx3aviyiaD87LPS+iG31vvKyK79RTis/x0adv5ogwD9esIk/QpBePxaNUz+7cT0/CAJLP88SzT/4vko/ejjWP82Y6j9kBek/pCAEQGzZAUBx4gVA3tfbP/9Hnb8/6Ka9FhWdv/Luyz2RFdA9bI77PwQnuD/mMkq+buOWPwL0uD5Yp4g+97IBv6yqTj+yDj4//HcXP+WeGz/bE9q/4EeFP98tKz6PZIi+S2w9P//XcD0I6gw/FmwhP/ZXJr2B75q/3KkXPwy9Vz9obcg/ByfQP8jG1D9yITA/wmSuP4ZEV74DhaK+nZKYv1XYkL8jwAC+u9acP5G3Mj/LJ2u/401jP5o4g7/eZr4/ElyfPoSkjr9Qqy2/MFVov9mCNT830p6+UX72P/0KsD+ibhA+uLiAvktQrT/NbRE/AaHFPn86uT/lCZw/PKW5P+ydLT86kXm/IHSMv3CusD8XrfO+90+tv9DKqj7CNsI/kiqgP3+Mvj83spC/6eTcPv45xD+IJQ8+SFB1PjaZwz/YtAU/uqnBPtUB1L9cx9M+DuedP8zOTb3ptDu/xWGRv61V47/4pADAAV/ov3uFIz+pRhE/BkEOP+4TpD76oeg+WyrNPU0oc78Gn5i+vkEBwL6Tc7+yQ+A7h+6SPioqXb8o1uA+/Y6KPkjhjz4pTMC/LWZTv5B/Aj+v97i/u5Cov0hI5T4FNKE+Mb6zPqK7nb/UyBa+spG+PsYQ2z4Yc5A+rUcXP9JE/T5x+4++dztIPQkoz79O2r6/8fsMP+ouNb4MhKo9MDTLPrfc5b+YnUG/UWmMPat51r+xVLm9HLC6v5K4qT39Xqm/XpbZv2uVlz6YOC29FBSGv4hVEb8aRsq/nLcBPnZGpL86rMC/WjZFvz420T5TssW/DUOuv1ydWb+8OtC/4/5bPtQjpb9Strg+RtWbPotLz79DZRW/8B0Xvmiubr5AZcM89Ngbv/PHs7/TgqW7hDfgvtCmrL0eswO/poyRvi9Jab+tko6/zqY7vP4hpb8afws/1ICNv5MTAr15UMk9G/E4v9/aY72qZpi+oei0vsZZJL6Rgqq/4ReFv0IkbL/YL26/Tgp7PqoN1b5C5ri/vDc6vw==\",\"dtype\":\"float32\",\"shape\":[214]},\"y\":{\"__ndarray__\":\"/Dt3v/BUQ78xM0O/wFjLvwEtzL+2FQi/q7WvvxGM4b/HmpS/fdCUvwtHtb/Y1+K/ZzqnP5f3Fb9d2tK/Gmr1v1Sg67/q1ty/9Frbv67Tnb4NUq+/3BWivoKLS76uu4S+0BJcvTnpmb2vE/a89F6evpg9pz9oUNI/dTSnP3j0AEBcvgJAxN4xvoImqb5Wkc4/ZHSWv2/Y1T99Wts/qfqWv99Cxz9x/sc/jHH3v3Ib7j/vskK/f1HMv+Lmzj/2Usk/ouL0vyoLAkDWZr6/FMv8vyV44T/oubW/WerZP50N078eWdc+l0alPq8TgD78E9c/E7yzv8wK9j95hGO/0I9evyhfsr8X2O8/cKwiP8xjv7/nQZq/CNXIvzXvtL8I67e+EYzrP6MGsr83Okq/HXWxvxA04D+CMGC/IRVMvSBcJz9Ee9g/IadwP00zFD9gb6S/nkcvvsjMqb+PH5y/4ASpv/kmpL9xy6e/1FNVvy8UqL+wI2K+VCzIvkQj4z/63ps/OpsTP4Ycmj+zlQa/JnaxP06ioD+bJYg/9RdvP7hGoz8Zc4m/rbiwP91zfL5n6aY/BfIBP8flkT+TrTS/0WUNvycIu7zOsY8+t+pXvRQUj79ZQ64/vRasP0nWkj80UXy/A6RhPzCZLr9EXx8/2hShPi4EQz//Vjm/gNunPeuxBD+tiFy/67tPv6VyNr/rHqO+0KBLvx1Mqj6V0bS+NF7bvlkdnz/HAFq/yzXavjqheD5kzQc/1Hw/v/PGkT5yzR8/eh73vgR7B79cfaW+Sg6Fvt+kCz8gdS49R/U0P0Nb277mszs/tNEtPzm8AD/eCzO/0voav8Thnj5Uz70+RDcNPirzBz90wSU/AhUVP8bBv75SHt6+rxAMP1rfxz5FOUg+6sQrP49LDD+QFRA/xukTP3raGz+SysA+8cGXPn51vT7iBNg9rYhiPg2D1j4dnG0+T0TDPvCZ5T6DzYq8oIY5vp8bSb6+SQE8t06EPn8YgD6U4d8+qrCRPdKqsT13+N09ekw8vLLJ6D5Q6Jg+I3tTPq/l1T1AEfQ9R6yHPZT9mr6jk5U+3hGYPkioo73Xu+49fVrcvTkO9j0Irag+KX3XPkfCrD4g2js9rkIhPvV8crz4Hck+JADmPg==\",\"dtype\":\"float32\",\"shape\":[214]}},\"selected\":{\"id\":\"1038\",\"type\":\"Selection\"},\"selection_policy\":{\"id\":\"1037\",\"type\":\"UnionRenderers\"}},\"id\":\"1002\",\"type\":\"ColumnDataSource\"},{\"attributes\":{\"data_source\":{\"id\":\"1002\",\"type\":\"ColumnDataSource\"},\"glyph\":{\"id\":\"1028\",\"type\":\"Circle\"},\"hover_glyph\":null,\"muted_glyph\":null,\"nonselection_glyph\":{\"id\":\"1029\",\"type\":\"Circle\"},\"selection_glyph\":null,\"view\":{\"id\":\"1031\",\"type\":\"CDSView\"}},\"id\":\"1030\",\"type\":\"GlyphRenderer\"},{\"attributes\":{\"source\":{\"id\":\"1002\",\"type\":\"ColumnDataSource\"}},\"id\":\"1031\",\"type\":\"CDSView\"},{\"attributes\":{},\"id\":\"1034\",\"type\":\"BasicTickFormatter\"}],\"root_ids\":[\"1004\"]},\"title\":\"Bokeh Application\",\"version\":\"1.3.0\"}};\n",
       "  var render_items = [{\"docid\":\"5885b7c3-e280-462c-a6e3-c2fc526c0e48\",\"roots\":{\"1004\":\"9687a971-e14f-49f8-8e6c-e412d6471cff\"}}];\n",
       "  root.Bokeh.embed.embed_items_notebook(docs_json, render_items);\n",
       "\n",
       "  }\n",
       "  if (root.Bokeh !== undefined) {\n",
       "    embed_document(root);\n",
       "  } else {\n",
       "    var attempts = 0;\n",
       "    var timer = setInterval(function(root) {\n",
       "      if (root.Bokeh !== undefined) {\n",
       "        embed_document(root);\n",
       "        clearInterval(timer);\n",
       "      }\n",
       "      attempts++;\n",
       "      if (attempts > 100) {\n",
       "        console.log(\"Bokeh: ERROR: Unable to run BokehJS code because BokehJS library is missing\");\n",
       "        clearInterval(timer);\n",
       "      }\n",
       "    }, 10, root)\n",
       "  }\n",
       "})(window);"
      ],
      "application/vnd.bokehjs_exec.v0+json": ""
     },
     "metadata": {
      "application/vnd.bokehjs_exec.v0+json": {
       "id": "1004"
      }
     },
     "output_type": "display_data"
    }
   ],
   "source": [
    "# dvc\n",
    "source = ColumnDataSource(data=dict(x=w2v_df['x'], y=w2v_df['y'], desc=w2v_df['palavra']))\n",
    "hover = HoverTool(tooltips=[(\"DESC\", \"@desc\"), (\"(x,y)\", \"($x, $y)\"),])\n",
    "\n",
    "p = figure(plot_width=900, plot_height=800, tools=[hover], \n",
    "           title=\"Word2Vec nos laudos de coronária\")\n",
    "\n",
    "p.circle('x', 'y', size=5, source=source)\n",
    "show(p)"
   ]
  }
 ],
 "metadata": {
  "kernelspec": {
   "display_name": "Python 3",
   "language": "python",
   "name": "python3"
  },
  "language_info": {
   "codemirror_mode": {
    "name": "ipython",
    "version": 3
   },
   "file_extension": ".py",
   "mimetype": "text/x-python",
   "name": "python",
   "nbconvert_exporter": "python",
   "pygments_lexer": "ipython3",
   "version": "3.7.3"
  }
 },
 "nbformat": 4,
 "nbformat_minor": 4
}
